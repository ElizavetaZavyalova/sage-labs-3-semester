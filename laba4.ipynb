{
 "cells": [
  {
   "cell_type": "markdown",
   "metadata": {},
   "source": [
    "<h1>Задание 4</h1>\n",
    " "
   ]
  },
  {
   "cell_type": "code",
   "execution_count": 8,
   "metadata": {},
   "outputs": [],
   "source": [
    "var('x')\n",
    "poly_x(x)=11*x**3-7*x**2+15*x-8"
   ]
  },
  {
   "cell_type": "code",
   "execution_count": 9,
   "metadata": {},
   "outputs": [
    {
     "data": {
      "text/html": [
       "<html><script type=\"math/tex; mode=display\">\\newcommand{\\Bold}[1]{\\mathbf{#1}}x = -\\frac{1}{66} \\, \\left(\\frac{1}{2}\\right)^{\\frac{1}{3}} {\\left(33 \\, \\sqrt{191219} \\sqrt{3} + 16427\\right)}^{\\frac{1}{3}} {\\left(i \\, \\sqrt{3} + 1\\right)} - \\frac{446 \\, \\left(\\frac{1}{2}\\right)^{\\frac{2}{3}} {\\left(i \\, \\sqrt{3} - 1\\right)}}{33 \\, {\\left(33 \\, \\sqrt{191219} \\sqrt{3} + 16427\\right)}^{\\frac{1}{3}}} + \\frac{7}{33}</script></html>"
      ],
      "text/latex": [
       "\\begin{math}\n",
       "\\newcommand{\\Bold}[1]{\\mathbf{#1}}x = -\\frac{1}{66} \\, \\left(\\frac{1}{2}\\right)^{\\frac{1}{3}} {\\left(33 \\, \\sqrt{191219} \\sqrt{3} + 16427\\right)}^{\\frac{1}{3}} {\\left(i \\, \\sqrt{3} + 1\\right)} - \\frac{446 \\, \\left(\\frac{1}{2}\\right)^{\\frac{2}{3}} {\\left(i \\, \\sqrt{3} - 1\\right)}}{33 \\, {\\left(33 \\, \\sqrt{191219} \\sqrt{3} + 16427\\right)}^{\\frac{1}{3}}} + \\frac{7}{33}\n",
       "\\end{math}"
      ],
      "text/plain": [
       "x == -1/66*(1/2)^(1/3)*(33*sqrt(191219)*sqrt(3) + 16427)^(1/3)*(I*sqrt(3) + 1) - 446/33*(1/2)^(2/3)*(I*sqrt(3) - 1)/(33*sqrt(191219)*sqrt(3) + 16427)^(1/3) + 7/33"
      ]
     },
     "metadata": {},
     "output_type": "display_data"
    },
    {
     "data": {
      "text/html": [
       "<html><script type=\"math/tex; mode=display\">\\newcommand{\\Bold}[1]{\\mathbf{#1}}x = -\\frac{1}{66} \\, \\left(\\frac{1}{2}\\right)^{\\frac{1}{3}} {\\left(33 \\, \\sqrt{191219} \\sqrt{3} + 16427\\right)}^{\\frac{1}{3}} {\\left(-i \\, \\sqrt{3} + 1\\right)} + \\frac{446 \\, \\left(\\frac{1}{2}\\right)^{\\frac{2}{3}} {\\left(i \\, \\sqrt{3} + 1\\right)}}{33 \\, {\\left(33 \\, \\sqrt{191219} \\sqrt{3} + 16427\\right)}^{\\frac{1}{3}}} + \\frac{7}{33}</script></html>"
      ],
      "text/latex": [
       "\\begin{math}\n",
       "\\newcommand{\\Bold}[1]{\\mathbf{#1}}x = -\\frac{1}{66} \\, \\left(\\frac{1}{2}\\right)^{\\frac{1}{3}} {\\left(33 \\, \\sqrt{191219} \\sqrt{3} + 16427\\right)}^{\\frac{1}{3}} {\\left(-i \\, \\sqrt{3} + 1\\right)} + \\frac{446 \\, \\left(\\frac{1}{2}\\right)^{\\frac{2}{3}} {\\left(i \\, \\sqrt{3} + 1\\right)}}{33 \\, {\\left(33 \\, \\sqrt{191219} \\sqrt{3} + 16427\\right)}^{\\frac{1}{3}}} + \\frac{7}{33}\n",
       "\\end{math}"
      ],
      "text/plain": [
       "x == -1/66*(1/2)^(1/3)*(33*sqrt(191219)*sqrt(3) + 16427)^(1/3)*(-I*sqrt(3) + 1) + 446/33*(1/2)^(2/3)*(I*sqrt(3) + 1)/(33*sqrt(191219)*sqrt(3) + 16427)^(1/3) + 7/33"
      ]
     },
     "metadata": {},
     "output_type": "display_data"
    },
    {
     "data": {
      "text/html": [
       "<html><script type=\"math/tex; mode=display\">\\newcommand{\\Bold}[1]{\\mathbf{#1}}x = \\frac{1}{33} \\, \\left(\\frac{1}{2}\\right)^{\\frac{1}{3}} {\\left(33 \\, \\sqrt{191219} \\sqrt{3} + 16427\\right)}^{\\frac{1}{3}} - \\frac{892 \\, \\left(\\frac{1}{2}\\right)^{\\frac{2}{3}}}{33 \\, {\\left(33 \\, \\sqrt{191219} \\sqrt{3} + 16427\\right)}^{\\frac{1}{3}}} + \\frac{7}{33}</script></html>"
      ],
      "text/latex": [
       "\\begin{math}\n",
       "\\newcommand{\\Bold}[1]{\\mathbf{#1}}x = \\frac{1}{33} \\, \\left(\\frac{1}{2}\\right)^{\\frac{1}{3}} {\\left(33 \\, \\sqrt{191219} \\sqrt{3} + 16427\\right)}^{\\frac{1}{3}} - \\frac{892 \\, \\left(\\frac{1}{2}\\right)^{\\frac{2}{3}}}{33 \\, {\\left(33 \\, \\sqrt{191219} \\sqrt{3} + 16427\\right)}^{\\frac{1}{3}}} + \\frac{7}{33}\n",
       "\\end{math}"
      ],
      "text/plain": [
       "x == 1/33*(1/2)^(1/3)*(33*sqrt(191219)*sqrt(3) + 16427)^(1/3) - 892/33*(1/2)^(2/3)/(33*sqrt(191219)*sqrt(3) + 16427)^(1/3) + 7/33"
      ]
     },
     "metadata": {},
     "output_type": "display_data"
    }
   ],
   "source": [
    "R=solve(poly_x(x)==0,x)\n",
    "show((R[0]))\n",
    "show((R[1]))\n",
    "show((R[2]))"
   ]
  },
  {
   "cell_type": "code",
   "execution_count": 10,
   "metadata": {},
   "outputs": [
    {
     "data": {
      "text/html": [
       "<html><script type=\"math/tex; mode=display\">\\newcommand{\\Bold}[1]{\\mathbf{#1}}x^{3} - \\frac{7}{11} \\, x^{2} + \\frac{15}{11} \\, x - \\frac{8}{11}</script></html>"
      ],
      "text/latex": [
       "\\begin{math}\n",
       "\\newcommand{\\Bold}[1]{\\mathbf{#1}}x^{3} - \\frac{7}{11} \\, x^{2} + \\frac{15}{11} \\, x - \\frac{8}{11}\n",
       "\\end{math}"
      ],
      "text/plain": [
       "x^3 - 7/11*x^2 + 15/11*x - 8/11"
      ]
     },
     "metadata": {},
     "output_type": "display_data"
    }
   ],
   "source": [
    "poly_x(x)=poly_x(x)*(1/11)\n",
    "show(poly_x(x))"
   ]
  },
  {
   "cell_type": "code",
   "execution_count": 11,
   "metadata": {},
   "outputs": [
    {
     "data": {
      "text/html": [
       "<html><script type=\"math/tex; mode=display\">\\newcommand{\\Bold}[1]{\\mathbf{#1}}z + \\frac{7}{33}</script></html>"
      ],
      "text/latex": [
       "\\begin{math}\n",
       "\\newcommand{\\Bold}[1]{\\mathbf{#1}}z + \\frac{7}{33}\n",
       "\\end{math}"
      ],
      "text/plain": [
       "z + 7/33"
      ]
     },
     "metadata": {},
     "output_type": "display_data"
    }
   ],
   "source": [
    "var(\"z\")\n",
    "t=-(-7/(11*3))\n",
    "show(z+t)\n",
    "poly_z = poly_x(x = z+t)"
   ]
  },
  {
   "cell_type": "code",
   "execution_count": 12,
   "metadata": {},
   "outputs": [
    {
     "data": {
      "text/html": [
       "<html><script type=\"math/tex; mode=display\">\\newcommand{\\Bold}[1]{\\mathbf{#1}}z^{3} + \\frac{446}{363} \\, z - \\frac{16427}{35937}</script></html>"
      ],
      "text/latex": [
       "\\begin{math}\n",
       "\\newcommand{\\Bold}[1]{\\mathbf{#1}}z^{3} + \\frac{446}{363} \\, z - \\frac{16427}{35937}\n",
       "\\end{math}"
      ],
      "text/plain": [
       "z^3 + 446/363*z - 16427/35937"
      ]
     },
     "metadata": {},
     "output_type": "display_data"
    }
   ],
   "source": [
    "show(poly_z.expand().simplify())"
   ]
  },
  {
   "cell_type": "code",
   "execution_count": 13,
   "metadata": {},
   "outputs": [],
   "source": [
    "def mace_cube(param):\n",
    "    if(param<0):\n",
    "        return -((-param)**(1/3))\n",
    "    else:\n",
    "        return param**(1/3)"
   ]
  },
  {
   "cell_type": "code",
   "execution_count": 14,
   "metadata": {},
   "outputs": [
    {
     "data": {
      "text/html": [
       "<html><script type=\"math/tex; mode=display\">\\newcommand{\\Bold}[1]{\\mathbf{#1}}\\frac{191219}{1581228}</script></html>"
      ],
      "text/latex": [
       "\\begin{math}\n",
       "\\newcommand{\\Bold}[1]{\\mathbf{#1}}\\frac{191219}{1581228}\n",
       "\\end{math}"
      ],
      "text/plain": [
       "191219/1581228"
      ]
     },
     "metadata": {},
     "output_type": "display_data"
    },
    {
     "name": "stdout",
     "output_type": "stream",
     "text": [
      "x0 =  0.552159576921586\n",
      "x1 =  0.0421020297210251 + 1.14689568178328*I\n",
      "x2 =  0.0421020297210251 - 1.14689568178328*I\n"
     ]
    }
   ],
   "source": [
    "p=446/363\n",
    "q=-16427/35937\n",
    "S=(q/2)**2+(p/3)**3\n",
    "show(S)\n",
    "v=mace_cube(-(q/2)-S**(1/2))\n",
    "u=mace_cube(-(q/2)+S**(1/2))\n",
    "e=0\n",
    "step=(2*pi)/3\n",
    "X=[u,u,u]\n",
    "for i in range(3):\n",
    "    X[i]=(u+v)*cos(e)+(u-v)*sin(e)*I+t\n",
    "    e+=step\n",
    "    print(f\"x{i} = \", n(X[i]))\n",
    "    \n",
    "    \n",
    " "
   ]
  },
  {
   "cell_type": "code",
   "execution_count": 8,
   "metadata": {},
   "outputs": [
    {
     "data": {
      "image/png": "[encoded data removed]",
      "text/plain": [
       "Graphics object consisting of 2 graphics primitives"
      ]
     },
     "metadata": {},
     "output_type": "display_data"
    }
   ],
   "source": [
    "m(x)=11*x**3-7*x**2+15*x-8\n",
    "intervals_of_constancy = plot(m(x), xmin=-1, xmax=1, ymin=-1, ymax=1)\n",
    "intervals_of_constancy  += point(((X[0]), 0), color=\"red\", size=30, zorder=10)\n",
    "intervals_of_constancy.show()"
   ]
  },
  {
   "cell_type": "code",
   "execution_count": null,
   "metadata": {},
   "outputs": [],
   "source": []
  },
  {
   "cell_type": "code",
   "execution_count": 9,
   "metadata": {},
   "outputs": [
    {
     "name": "stdout",
     "output_type": "stream",
     "text": [
      "алгебраическое представление:\n",
      "x0 =  0.552159576921586\n",
      "x1 =  0.0421020297210251 + 1.14689568178328*I\n",
      "x2 =  0.0421020297210251 - 1.14689568178328*I\n"
     ]
    }
   ],
   "source": [
    "print(\"алгебраическое представление:\")\n",
    "for i in range(3):\n",
    "     print(f\"x{i} = \", n(X[i]))"
   ]
  },
  {
   "cell_type": "code",
   "execution_count": 10,
   "metadata": {},
   "outputs": [
    {
     "name": "stdout",
     "output_type": "stream",
     "text": [
      "тригонаметрическое представление:\n",
      "x0 =  0.552159576921586*cos(0.000000000000000) + 0.552159576921586*I*sin(0.000000000000000)\n",
      "x1 =  1.14766819499355*cos(1.53410324864043) + 1.14766819499355*I*sin(1.53410324864043)\n",
      "x2 =  1.14766819499355*cos(-1.53410324864043) + 1.14766819499355*I*sin(-1.53410324864043)\n"
     ]
    }
   ],
   "source": [
    "print(\"тригонаметрическое представление:\")\n",
    "\n",
    "for i in range(3):\n",
    "    phi = atan2(X[i].imag(), X[i].real()).n()\n",
    "    x_abs = X[i].abs().n()\n",
    "    x_trig = x_abs*(cos(phi, hold=True) + I*sin(phi, hold=True))\n",
    "    print(f\"x{i} = \", (x_trig))"
   ]
  },
  {
   "cell_type": "code",
   "execution_count": 11,
   "metadata": {},
   "outputs": [
    {
     "name": "stdout",
     "output_type": "stream",
     "text": [
      "экспоненцонное представление:\n"
     ]
    },
    {
     "data": {
      "text/html": [
       "x<script type=\"math/tex\">0</script> = <script type=\"math/tex\">0.552159576921586\\cdot e^{0.000000000000000\\cdot i}</script>"
      ],
      "text/plain": [
       "x<script type=\"math/tex\">0</script> = <script type=\"math/tex\">0.552159576921586\\cdot e^{0.000000000000000\\cdot i}</script>"
      ]
     },
     "metadata": {},
     "output_type": "display_data"
    },
    {
     "data": {
      "text/html": [
       "x<script type=\"math/tex\">1</script> = <script type=\"math/tex\">1.14766819499355\\cdot e^{1.53410324864043\\cdot i}</script>"
      ],
      "text/plain": [
       "x<script type=\"math/tex\">1</script> = <script type=\"math/tex\">1.14766819499355\\cdot e^{1.53410324864043\\cdot i}</script>"
      ]
     },
     "metadata": {},
     "output_type": "display_data"
    },
    {
     "data": {
      "text/html": [
       "x<script type=\"math/tex\">2</script> = <script type=\"math/tex\">1.14766819499355\\cdot e^{-1.53410324864043\\cdot i}</script>"
      ],
      "text/plain": [
       "x<script type=\"math/tex\">2</script> = <script type=\"math/tex\">1.14766819499355\\cdot e^{-1.53410324864043\\cdot i}</script>"
      ]
     },
     "metadata": {},
     "output_type": "display_data"
    }
   ],
   "source": [
    "print(\"экспоненцонное представление:\")\n",
    "for i in range(3):\n",
    "    phi = atan2(X[i].imag(), X[i].real()).n()\n",
    "    x_abs = X[i].abs().n()\n",
    "    x_exp = f\"{x_abs}\" + r\"\\cdot e^{\" + f\"{phi}\" + r\"\\cdot i}\"\n",
    "    show(html(f\"x${i}$ = ${x_exp}$\"))"
   ]
  },
  {
   "cell_type": "code",
   "execution_count": null,
   "metadata": {},
   "outputs": [],
   "source": []
  }
 ],
 "metadata": {
  "kernelspec": {
   "display_name": "SageMath 9.2",
   "language": "sage",
   "name": "sagemath"
  },
  "language_info": {
   "codemirror_mode": {
    "name": "ipython",
    "version": 3
   },
   "file_extension": ".py",
   "mimetype": "text/x-python",
   "name": "python",
   "nbconvert_exporter": "python",
   "pygments_lexer": "ipython3",
   "version": "3.7.7"
  }
 },
 "nbformat": 4,
 "nbformat_minor": 4
}
