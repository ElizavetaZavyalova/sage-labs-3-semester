{
 "cells": [
  {
   "cell_type": "markdown",
   "metadata": {},
   "source": [
    "<h1>Системы уравнений</h1>\n",
    " \n",
    " "
   ]
  },
  {
   "cell_type": "markdown",
   "metadata": {},
   "source": [
    "Дaна система уравнений:<br>"
   ]
  },
  {
   "cell_type": "code",
   "execution_count": 41,
   "metadata": {},
   "outputs": [],
   "source": [
    "var(\"x1 x2 x3\")\n",
    "eq1 = 3*x1 + 4*x2-5*x3 - 7==0\n",
    "eq2 = 7*x1 - 3*x2 - 4*x3-3==0\n",
    "eq3=5*x1+6*x2-7*x3==0\n",
    " "
   ]
  },
  {
   "cell_type": "markdown",
   "metadata": {},
   "source": [
    "\\begin{cases}\n",
    " 3x_1 + 4x_2-5x_3=7\\\\\n",
    "   7x_1-3x_2-4x_3=3\\\\\n",
    "  5x_1+6x_2-7x_3=0\n",
    " \\end{cases}"
   ]
  },
  {
   "cell_type": "code",
   "execution_count": 42,
   "metadata": {},
   "outputs": [],
   "source": [
    "solutions=solve([eq1, eq2, eq3], [x1, x2, x3])\n",
    " "
   ]
  },
  {
   "cell_type": "code",
   "execution_count": 43,
   "metadata": {},
   "outputs": [
    {
     "data": {
      "text/html": [
       "<html><script type=\"math/tex; mode=display\">\\newcommand{\\Bold}[1]{\\mathbf{#1}}x_{1} = \\left(-\\frac{309}{34}\\right)</script></html>"
      ],
      "text/latex": [
       "\\begin{math}\n",
       "\\newcommand{\\Bold}[1]{\\mathbf{#1}}x_{1} = \\left(-\\frac{309}{34}\\right)\n",
       "\\end{math}"
      ],
      "text/plain": [
       "x1 == (-309/34)"
      ]
     },
     "metadata": {},
     "output_type": "display_data"
    }
   ],
   "source": [
    "show(solutions[0][0])"
   ]
  },
  {
   "cell_type": "code",
   "execution_count": 44,
   "metadata": {},
   "outputs": [
    {
     "data": {
      "text/html": [
       "<html><script type=\"math/tex; mode=display\">\\newcommand{\\Bold}[1]{\\mathbf{#1}}x_{2} = \\left(-\\frac{215}{34}\\right)</script></html>"
      ],
      "text/latex": [
       "\\begin{math}\n",
       "\\newcommand{\\Bold}[1]{\\mathbf{#1}}x_{2} = \\left(-\\frac{215}{34}\\right)\n",
       "\\end{math}"
      ],
      "text/plain": [
       "x2 == (-215/34)"
      ]
     },
     "metadata": {},
     "output_type": "display_data"
    }
   ],
   "source": [
    "show(solutions[0][1])"
   ]
  },
  {
   "cell_type": "code",
   "execution_count": 45,
   "metadata": {},
   "outputs": [
    {
     "data": {
      "text/html": [
       "<html><script type=\"math/tex; mode=display\">\\newcommand{\\Bold}[1]{\\mathbf{#1}}x_{3} = \\left(-\\frac{405}{34}\\right)</script></html>"
      ],
      "text/latex": [
       "\\begin{math}\n",
       "\\newcommand{\\Bold}[1]{\\mathbf{#1}}x_{3} = \\left(-\\frac{405}{34}\\right)\n",
       "\\end{math}"
      ],
      "text/plain": [
       "x3 == (-405/34)"
      ]
     },
     "metadata": {},
     "output_type": "display_data"
    }
   ],
   "source": [
    "show(solutions[0][2])"
   ]
  },
  {
   "cell_type": "markdown",
   "metadata": {},
   "source": [
    "Решим методом слау:<br>"
   ]
  },
  {
   "cell_type": "code",
   "execution_count": 46,
   "metadata": {},
   "outputs": [
    {
     "data": {
      "text/html": [
       "<html><script type=\"math/tex; mode=display\">\\newcommand{\\Bold}[1]{\\mathbf{#1}}x_1 =  -\\frac{309}{34}</script></html>"
      ],
      "text/latex": [
       "\\begin{math}\n",
       "\\newcommand{\\Bold}[1]{\\mathbf{#1}}x_1 =  -\\frac{309}{34}\n",
       "\\end{math}"
      ],
      "text/plain": [
       "x_1 =  -309/34"
      ]
     },
     "metadata": {},
     "output_type": "display_data"
    },
    {
     "data": {
      "text/html": [
       "<html><script type=\"math/tex; mode=display\">\\newcommand{\\Bold}[1]{\\mathbf{#1}}x_2 =  -\\frac{215}{34}</script></html>"
      ],
      "text/latex": [
       "\\begin{math}\n",
       "\\newcommand{\\Bold}[1]{\\mathbf{#1}}x_2 =  -\\frac{215}{34}\n",
       "\\end{math}"
      ],
      "text/plain": [
       "x_2 =  -215/34"
      ]
     },
     "metadata": {},
     "output_type": "display_data"
    },
    {
     "data": {
      "text/html": [
       "<html><script type=\"math/tex; mode=display\">\\newcommand{\\Bold}[1]{\\mathbf{#1}}x_3 =  -\\frac{405}{34}</script></html>"
      ],
      "text/latex": [
       "\\begin{math}\n",
       "\\newcommand{\\Bold}[1]{\\mathbf{#1}}x_3 =  -\\frac{405}{34}\n",
       "\\end{math}"
      ],
      "text/plain": [
       "x_3 =  -405/34"
      ]
     },
     "metadata": {},
     "output_type": "display_data"
    }
   ],
   "source": [
    "A=matrix([[3,4,-5],[7,-3,-4], [5,6,-7]])\n",
    "B=matrix([7,3, 0])\n",
    "X=det(A)\n",
    "Xi=([0,0,0])\n",
    "var(\"i\")\n",
    "var(\"j\")\n",
    "if(X==0):\n",
    "    print(\"нет решений\")\n",
    "else:\n",
    "    for i in range(3):\n",
    "        C=1*A\n",
    "        for j in range(3):\n",
    "            C[j,i]=B[0,j]\n",
    "        Xi[i]=det(C)/X \n",
    "    solutions=Xi\n",
    "    show(LatexExpr(\"x_1 = \"), solutions[0])\n",
    "    show(LatexExpr(\"x_2 = \"), solutions[1])\n",
    "    show(LatexExpr(\"x_3 = \"), solutions[2])\n",
    "    "
   ]
  },
  {
   "cell_type": "markdown",
   "metadata": {},
   "source": [
    "Решим методом гауса:<br>"
   ]
  },
  {
   "cell_type": "code",
   "execution_count": 47,
   "metadata": {},
   "outputs": [
    {
     "data": {
      "text/html": [
       "<html><script type=\"math/tex; mode=display\">\\newcommand{\\Bold}[1]{\\mathbf{#1}}\\left(\\begin{array}{rrrr}\n",
       "3 & 4 & -5 & -7 \\\\\n",
       "7 & -3 & -4 & -3 \\\\\n",
       "5 & 6 & -7 & 0\n",
       "\\end{array}\\right)</script></html>"
      ],
      "text/latex": [
       "\\begin{math}\n",
       "\\newcommand{\\Bold}[1]{\\mathbf{#1}}\\left(\\begin{array}{rrrr}\n",
       "3 & 4 & -5 & -7 \\\\\n",
       "7 & -3 & -4 & -3 \\\\\n",
       "5 & 6 & -7 & 0\n",
       "\\end{array}\\right)\n",
       "\\end{math}"
      ],
      "text/plain": [
       "[ 3  4 -5 -7]\n",
       "[ 7 -3 -4 -3]\n",
       "[ 5  6 -7  0]"
      ]
     },
     "metadata": {},
     "output_type": "display_data"
    }
   ],
   "source": [
    "A=matrix(QQ,[[3,4,-5],[7,-3,-4], [5,6,-7]])\n",
    "b=matrix(QQ,[-7,-3,0]).transpose()\n",
    "Ab=matrix(QQ,[[3,4,-5, -7],[7,-3,-4, -3], [5,6,-7, 0]])\n",
    "var(\"i j\")\n",
    "if(A.rank()!=Ab.rank()):\n",
    "    print(\"Системы несовместны:\")\n",
    "else:\n",
    "    show(Ab)\n",
    "    \n",
    " \n",
    "    \n",
    " \n",
    " "
   ]
  },
  {
   "cell_type": "code",
   "execution_count": 48,
   "metadata": {},
   "outputs": [],
   "source": [
    "def change(_M, i, j):\n",
    "    for p in range(4):\n",
    "        t=_M[i,p]\n",
    "        _M[i,p]=_M[j,p]\n",
    "        _M[j,p]=t\n",
    "    return _M\n",
    "def steps(_M):\n",
    "    s=0\n",
    "    for i in range(3):\n",
    "        if(_M[s,i]==0):\n",
    "            n=i\n",
    "            while(_M[n,i]==0 and n<2):\n",
    "                n+=1\n",
    "            if(_M[n,i]!=0):\n",
    "                _M= change(_M, s, n)\n",
    "            else:\n",
    "                continue\n",
    "        for k in range(3):\n",
    "            if(k!=s):\n",
    "                elem=(_M[k,i])/_M[s,i]\n",
    "                for j in range(4):\n",
    "                    _M[k,j]-=(_M[s,j])*elem\n",
    "            else:\n",
    "                elem=_M[s,i]\n",
    "                for j in range(4):\n",
    "                    _M[k,j]/=elem\n",
    "        show(\"~\",_M)\n",
    "                 \n",
    "                        \n",
    "        s+=1\n",
    "    return _M"
   ]
  },
  {
   "cell_type": "code",
   "execution_count": 49,
   "metadata": {},
   "outputs": [
    {
     "data": {
      "text/html": [
       "<html><script type=\"math/tex; mode=display\">\\newcommand{\\Bold}[1]{\\mathbf{#1}}\\left(\\begin{array}{rrrr}\n",
       "3 & 4 & -5 & -7 \\\\\n",
       "7 & -3 & -4 & -3 \\\\\n",
       "5 & 6 & -7 & 0\n",
       "\\end{array}\\right)</script></html>"
      ],
      "text/latex": [
       "\\begin{math}\n",
       "\\newcommand{\\Bold}[1]{\\mathbf{#1}}\\left(\\begin{array}{rrrr}\n",
       "3 & 4 & -5 & -7 \\\\\n",
       "7 & -3 & -4 & -3 \\\\\n",
       "5 & 6 & -7 & 0\n",
       "\\end{array}\\right)\n",
       "\\end{math}"
      ],
      "text/plain": [
       "[ 3  4 -5 -7]\n",
       "[ 7 -3 -4 -3]\n",
       "[ 5  6 -7  0]"
      ]
     },
     "metadata": {},
     "output_type": "display_data"
    },
    {
     "data": {
      "text/html": [
       "<html><script type=\"math/tex; mode=display\">\\newcommand{\\Bold}[1]{\\mathbf{#1}}\\verb|~| \\left(\\begin{array}{rrrr}\n",
       "1 & \\frac{4}{3} & -\\frac{5}{3} & -\\frac{7}{3} \\\\\n",
       "0 & -\\frac{37}{3} & \\frac{23}{3} & \\frac{40}{3} \\\\\n",
       "0 & -\\frac{2}{3} & \\frac{4}{3} & \\frac{35}{3}\n",
       "\\end{array}\\right)</script></html>"
      ],
      "text/latex": [
       "\\begin{math}\n",
       "\\newcommand{\\Bold}[1]{\\mathbf{#1}}\\verb|~| \\left(\\begin{array}{rrrr}\n",
       "1 & \\frac{4}{3} & -\\frac{5}{3} & -\\frac{7}{3} \\\\\n",
       "0 & -\\frac{37}{3} & \\frac{23}{3} & \\frac{40}{3} \\\\\n",
       "0 & -\\frac{2}{3} & \\frac{4}{3} & \\frac{35}{3}\n",
       "\\end{array}\\right)\n",
       "\\end{math}"
      ],
      "text/plain": [
       "'~' [    1   4/3  -5/3  -7/3]\n",
       "[    0 -37/3  23/3  40/3]\n",
       "[    0  -2/3   4/3  35/3]"
      ]
     },
     "metadata": {},
     "output_type": "display_data"
    },
    {
     "data": {
      "text/html": [
       "<html><script type=\"math/tex; mode=display\">\\newcommand{\\Bold}[1]{\\mathbf{#1}}\\verb|~| \\left(\\begin{array}{rrrr}\n",
       "1 & 0 & -\\frac{31}{37} & -\\frac{33}{37} \\\\\n",
       "0 & 1 & -\\frac{23}{37} & -\\frac{40}{37} \\\\\n",
       "0 & 0 & \\frac{34}{37} & \\frac{405}{37}\n",
       "\\end{array}\\right)</script></html>"
      ],
      "text/latex": [
       "\\begin{math}\n",
       "\\newcommand{\\Bold}[1]{\\mathbf{#1}}\\verb|~| \\left(\\begin{array}{rrrr}\n",
       "1 & 0 & -\\frac{31}{37} & -\\frac{33}{37} \\\\\n",
       "0 & 1 & -\\frac{23}{37} & -\\frac{40}{37} \\\\\n",
       "0 & 0 & \\frac{34}{37} & \\frac{405}{37}\n",
       "\\end{array}\\right)\n",
       "\\end{math}"
      ],
      "text/plain": [
       "'~' [     1      0 -31/37 -33/37]\n",
       "[     0      1 -23/37 -40/37]\n",
       "[     0      0  34/37 405/37]"
      ]
     },
     "metadata": {},
     "output_type": "display_data"
    },
    {
     "data": {
      "text/html": [
       "<html><script type=\"math/tex; mode=display\">\\newcommand{\\Bold}[1]{\\mathbf{#1}}\\verb|~| \\left(\\begin{array}{rrrr}\n",
       "1 & 0 & 0 & \\frac{309}{34} \\\\\n",
       "0 & 1 & 0 & \\frac{215}{34} \\\\\n",
       "0 & 0 & 1 & \\frac{405}{34}\n",
       "\\end{array}\\right)</script></html>"
      ],
      "text/latex": [
       "\\begin{math}\n",
       "\\newcommand{\\Bold}[1]{\\mathbf{#1}}\\verb|~| \\left(\\begin{array}{rrrr}\n",
       "1 & 0 & 0 & \\frac{309}{34} \\\\\n",
       "0 & 1 & 0 & \\frac{215}{34} \\\\\n",
       "0 & 0 & 1 & \\frac{405}{34}\n",
       "\\end{array}\\right)\n",
       "\\end{math}"
      ],
      "text/plain": [
       "'~' [     1      0      0 309/34]\n",
       "[     0      1      0 215/34]\n",
       "[     0      0      1 405/34]"
      ]
     },
     "metadata": {},
     "output_type": "display_data"
    }
   ],
   "source": [
    "show(Ab)\n",
    "Ab=steps(Ab)"
   ]
  },
  {
   "cell_type": "code",
   "execution_count": 50,
   "metadata": {},
   "outputs": [
    {
     "name": "stdout",
     "output_type": "stream",
     "text": [
      "решение проверено\n"
     ]
    }
   ],
   "source": [
    "Xi=matrix(QQ,[[0],[0],[0]])\n",
    "for i in range(3):\n",
    "    Xi[i]=Ab[i,3]\n",
    "if(A*Xi==b):\n",
    "    print(\"решение проверено\")"
   ]
  },
  {
   "cell_type": "code",
   "execution_count": null,
   "metadata": {},
   "outputs": [],
   "source": []
  }
 ],
 "metadata": {
  "kernelspec": {
   "display_name": "SageMath 9.2",
   "language": "sage",
   "name": "sagemath"
  },
  "language_info": {
   "codemirror_mode": {
    "name": "ipython",
    "version": 3
   },
   "file_extension": ".py",
   "mimetype": "text/x-python",
   "name": "python",
   "nbconvert_exporter": "python",
   "pygments_lexer": "ipython3",
   "version": "3.7.7"
  }
 },
 "nbformat": 4,
 "nbformat_minor": 2
}
