{
 "cells": [
  {
   "cell_type": "code",
   "execution_count": 22,
   "metadata": {},
   "outputs": [
    {
     "name": "stdout",
     "output_type": "stream",
     "text": [
      "A=\n"
     ]
    },
    {
     "data": {
      "text/html": [
       "<html><script type=\"math/tex; mode=display\">\\newcommand{\\Bold}[1]{\\mathbf{#1}}\\left(\\begin{array}{rrr}\n",
       "\\frac{2}{3} & -\\frac{1}{3} & -1 \\\\\n",
       "-1 & 2 & 1 \\\\\n",
       "2 & 0 & 2\n",
       "\\end{array}\\right)</script></html>"
      ],
      "text/latex": [
       "\\begin{math}\n",
       "\\newcommand{\\Bold}[1]{\\mathbf{#1}}\\left(\\begin{array}{rrr}\n",
       "\\frac{2}{3} & -\\frac{1}{3} & -1 \\\\\n",
       "-1 & 2 & 1 \\\\\n",
       "2 & 0 & 2\n",
       "\\end{array}\\right)\n",
       "\\end{math}"
      ],
      "text/plain": [
       "[ 2/3 -1/3   -1]\n",
       "[  -1    2    1]\n",
       "[   2    0    2]"
      ]
     },
     "metadata": {},
     "output_type": "display_data"
    },
    {
     "name": "stdout",
     "output_type": "stream",
     "text": [
      "B=\n"
     ]
    },
    {
     "data": {
      "text/html": [
       "<html><script type=\"math/tex; mode=display\">\\newcommand{\\Bold}[1]{\\mathbf{#1}}\\left(\\begin{array}{rrr}\n",
       "2 & 1 & -5 \\\\\n",
       "2 & 0 & 7 \\\\\n",
       "1 & 4 & 2\n",
       "\\end{array}\\right)</script></html>"
      ],
      "text/latex": [
       "\\begin{math}\n",
       "\\newcommand{\\Bold}[1]{\\mathbf{#1}}\\left(\\begin{array}{rrr}\n",
       "2 & 1 & -5 \\\\\n",
       "2 & 0 & 7 \\\\\n",
       "1 & 4 & 2\n",
       "\\end{array}\\right)\n",
       "\\end{math}"
      ],
      "text/plain": [
       "[ 2  1 -5]\n",
       "[ 2  0  7]\n",
       "[ 1  4  2]"
      ]
     },
     "metadata": {},
     "output_type": "display_data"
    },
    {
     "name": "stdout",
     "output_type": "stream",
     "text": [
      "C=\n"
     ]
    },
    {
     "data": {
      "text/html": [
       "<html><script type=\"math/tex; mode=display\">\\newcommand{\\Bold}[1]{\\mathbf{#1}}\\left(\\begin{array}{rrr}\n",
       "2 & \\frac{1}{2} & 1 \\\\\n",
       "-1 & -1 & 4 \\\\\n",
       "1 & 0 & 3\n",
       "\\end{array}\\right)</script></html>"
      ],
      "text/latex": [
       "\\begin{math}\n",
       "\\newcommand{\\Bold}[1]{\\mathbf{#1}}\\left(\\begin{array}{rrr}\n",
       "2 & \\frac{1}{2} & 1 \\\\\n",
       "-1 & -1 & 4 \\\\\n",
       "1 & 0 & 3\n",
       "\\end{array}\\right)\n",
       "\\end{math}"
      ],
      "text/plain": [
       "[  2 1/2   1]\n",
       "[ -1  -1   4]\n",
       "[  1   0   3]"
      ]
     },
     "metadata": {},
     "output_type": "display_data"
    },
    {
     "name": "stdout",
     "output_type": "stream",
     "text": [
      "3*X*A+B=2*C\n"
     ]
    }
   ],
   "source": [
    " "
   ]
  },
  {
   "cell_type": "code",
   "execution_count": 1,
   "metadata": {},
   "outputs": [
    {
     "data": {
      "text/html": [
       "<html><script type=\"math/tex; mode=display\">\\newcommand{\\Bold}[1]{\\mathbf{#1}}\\verb|A=| \\left(\\begin{array}{rrr}\n",
       "\\frac{2}{3} & -\\frac{1}{3} & -1 \\\\\n",
       "-1 & 2 & 1 \\\\\n",
       "2 & 0 & 2\n",
       "\\end{array}\\right)</script></html>"
      ],
      "text/latex": [
       "\\begin{math}\n",
       "\\newcommand{\\Bold}[1]{\\mathbf{#1}}\\verb|A=| \\left(\\begin{array}{rrr}\n",
       "\\frac{2}{3} & -\\frac{1}{3} & -1 \\\\\n",
       "-1 & 2 & 1 \\\\\n",
       "2 & 0 & 2\n",
       "\\end{array}\\right)\n",
       "\\end{math}"
      ],
      "text/plain": [
       "'A=' [ 2/3 -1/3   -1]\n",
       "[  -1    2    1]\n",
       "[   2    0    2]"
      ]
     },
     "metadata": {},
     "output_type": "display_data"
    },
    {
     "data": {
      "text/html": [
       "<html><script type=\"math/tex; mode=display\">\\newcommand{\\Bold}[1]{\\mathbf{#1}}\\verb|B=| \\left(\\begin{array}{rrr}\n",
       "2 & 1 & -5 \\\\\n",
       "2 & 0 & 7 \\\\\n",
       "1 & 4 & 2\n",
       "\\end{array}\\right)</script></html>"
      ],
      "text/latex": [
       "\\begin{math}\n",
       "\\newcommand{\\Bold}[1]{\\mathbf{#1}}\\verb|B=| \\left(\\begin{array}{rrr}\n",
       "2 & 1 & -5 \\\\\n",
       "2 & 0 & 7 \\\\\n",
       "1 & 4 & 2\n",
       "\\end{array}\\right)\n",
       "\\end{math}"
      ],
      "text/plain": [
       "'B=' [ 2  1 -5]\n",
       "[ 2  0  7]\n",
       "[ 1  4  2]"
      ]
     },
     "metadata": {},
     "output_type": "display_data"
    },
    {
     "data": {
      "text/html": [
       "<html><script type=\"math/tex; mode=display\">\\newcommand{\\Bold}[1]{\\mathbf{#1}}\\verb|C=| \\left(\\begin{array}{rrr}\n",
       "2 & \\frac{1}{2} & 1 \\\\\n",
       "-1 & -1 & 4 \\\\\n",
       "1 & 0 & 3\n",
       "\\end{array}\\right)</script></html>"
      ],
      "text/latex": [
       "\\begin{math}\n",
       "\\newcommand{\\Bold}[1]{\\mathbf{#1}}\\verb|C=| \\left(\\begin{array}{rrr}\n",
       "2 & \\frac{1}{2} & 1 \\\\\n",
       "-1 & -1 & 4 \\\\\n",
       "1 & 0 & 3\n",
       "\\end{array}\\right)\n",
       "\\end{math}"
      ],
      "text/plain": [
       "'C=' [  2 1/2   1]\n",
       "[ -1  -1   4]\n",
       "[  1   0   3]"
      ]
     },
     "metadata": {},
     "output_type": "display_data"
    },
    {
     "data": {
      "text/html": [
       "<html><script type=\"math/tex; mode=display\">\\newcommand{\\Bold}[1]{\\mathbf{#1}}\\verb|3*X*A+B=2*C|</script></html>"
      ],
      "text/latex": [
       "\\begin{math}\n",
       "\\newcommand{\\Bold}[1]{\\mathbf{#1}}\\verb|3*X*A+B=2*C|\n",
       "\\end{math}"
      ],
      "text/plain": [
       "'3*X*A+B=2*C'"
      ]
     },
     "metadata": {},
     "output_type": "display_data"
    }
   ],
   "source": [
    "A=matrix(QQ,[[2/3,-1/3,-1],[-1,2,1],[2,0,2]])\n",
    "B=matrix(QQ,[[2,1,-5],[2,0,7],[1,4,2]])\n",
    "C=matrix(QQ,[[2,1/2,1],[-1,-1,4],[1,0,3]])\n",
    " \n",
    "show(\"A=\", A)\n",
    " \n",
    "show(\"B=\", B)\n",
    "show(\"C=\", C)\n",
    " \n",
    "show(\"3*X*A+B=2*C\")"
   ]
  },
  {
   "cell_type": "code",
   "execution_count": 2,
   "metadata": {},
   "outputs": [],
   "source": [
    "D=2*C-B"
   ]
  },
  {
   "cell_type": "code",
   "execution_count": 3,
   "metadata": {},
   "outputs": [
    {
     "data": {
      "text/html": [
       "<html><script type=\"math/tex; mode=display\">\\newcommand{\\Bold}[1]{\\mathbf{#1}}\\verb|2*С-B=| \\left(\\begin{array}{rrr}\n",
       "2 & 0 & 7 \\\\\n",
       "-4 & -2 & 1 \\\\\n",
       "1 & -4 & 4\n",
       "\\end{array}\\right)</script></html>"
      ],
      "text/latex": [
       "\\begin{math}\n",
       "\\newcommand{\\Bold}[1]{\\mathbf{#1}}\\verb|2*С-B=| \\left(\\begin{array}{rrr}\n",
       "2 & 0 & 7 \\\\\n",
       "-4 & -2 & 1 \\\\\n",
       "1 & -4 & 4\n",
       "\\end{array}\\right)\n",
       "\\end{math}"
      ],
      "text/plain": [
       "'2*С-B=' [ 2  0  7]\n",
       "[-4 -2  1]\n",
       "[ 1 -4  4]"
      ]
     },
     "metadata": {},
     "output_type": "display_data"
    },
    {
     "data": {
      "text/html": [
       "<html><script type=\"math/tex; mode=display\">\\newcommand{\\Bold}[1]{\\mathbf{#1}}\\verb|3*X*A=2*C-B|</script></html>"
      ],
      "text/latex": [
       "\\begin{math}\n",
       "\\newcommand{\\Bold}[1]{\\mathbf{#1}}\\verb|3*X*A=2*C-B|\n",
       "\\end{math}"
      ],
      "text/plain": [
       "'3*X*A=2*C-B'"
      ]
     },
     "metadata": {},
     "output_type": "display_data"
    }
   ],
   "source": [
    "show(\"2*С-B=\", D)\n",
    "show(\"3*X*A=2*C-B\")"
   ]
  },
  {
   "cell_type": "code",
   "execution_count": 4,
   "metadata": {},
   "outputs": [
    {
     "data": {
      "text/html": [
       "<html><script type=\"math/tex; mode=display\">\\newcommand{\\Bold}[1]{\\mathbf{#1}}\\verb|3*A=| \\left(\\begin{array}{rrr}\n",
       "2 & -1 & -3 \\\\\n",
       "-3 & 6 & 3 \\\\\n",
       "6 & 0 & 6\n",
       "\\end{array}\\right)</script></html>"
      ],
      "text/latex": [
       "\\begin{math}\n",
       "\\newcommand{\\Bold}[1]{\\mathbf{#1}}\\verb|3*A=| \\left(\\begin{array}{rrr}\n",
       "2 & -1 & -3 \\\\\n",
       "-3 & 6 & 3 \\\\\n",
       "6 & 0 & 6\n",
       "\\end{array}\\right)\n",
       "\\end{math}"
      ],
      "text/plain": [
       "'3*A=' [ 2 -1 -3]\n",
       "[-3  6  3]\n",
       "[ 6  0  6]"
      ]
     },
     "metadata": {},
     "output_type": "display_data"
    },
    {
     "data": {
      "text/html": [
       "<html><script type=\"math/tex; mode=display\">\\newcommand{\\Bold}[1]{\\mathbf{#1}}\\verb|X*3*A=2*C-B|</script></html>"
      ],
      "text/latex": [
       "\\begin{math}\n",
       "\\newcommand{\\Bold}[1]{\\mathbf{#1}}\\verb|X*3*A=2*C-B|\n",
       "\\end{math}"
      ],
      "text/plain": [
       "'X*3*A=2*C-B'"
      ]
     },
     "metadata": {},
     "output_type": "display_data"
    }
   ],
   "source": [
    "M=3*A\n",
    "show(\"3*A=\", M)\n",
    " \n",
    "show(\"X*3*A=2*C-B\")"
   ]
  },
  {
   "cell_type": "code",
   "execution_count": 5,
   "metadata": {},
   "outputs": [
    {
     "data": {
      "text/html": [
       "<html><script type=\"math/tex; mode=display\">\\newcommand{\\Bold}[1]{\\mathbf{#1}}\\verb|(3*A)^-1=| \\left(\\begin{array}{rrr}\n",
       "\\frac{1}{4} & \\frac{1}{24} & \\frac{5}{48} \\\\\n",
       "\\frac{1}{4} & \\frac{5}{24} & \\frac{1}{48} \\\\\n",
       "-\\frac{1}{4} & -\\frac{1}{24} & \\frac{1}{16}\n",
       "\\end{array}\\right)</script></html>"
      ],
      "text/latex": [
       "\\begin{math}\n",
       "\\newcommand{\\Bold}[1]{\\mathbf{#1}}\\verb|(3*A)^-1=| \\left(\\begin{array}{rrr}\n",
       "\\frac{1}{4} & \\frac{1}{24} & \\frac{5}{48} \\\\\n",
       "\\frac{1}{4} & \\frac{5}{24} & \\frac{1}{48} \\\\\n",
       "-\\frac{1}{4} & -\\frac{1}{24} & \\frac{1}{16}\n",
       "\\end{array}\\right)\n",
       "\\end{math}"
      ],
      "text/plain": [
       "'(3*A)^-1=' [  1/4  1/24  5/48]\n",
       "[  1/4  5/24  1/48]\n",
       "[ -1/4 -1/24  1/16]"
      ]
     },
     "metadata": {},
     "output_type": "display_data"
    },
    {
     "data": {
      "text/html": [
       "<html><script type=\"math/tex; mode=display\">\\newcommand{\\Bold}[1]{\\mathbf{#1}}\\verb|X=(2*C-B)(3*A)^-1|</script></html>"
      ],
      "text/latex": [
       "\\begin{math}\n",
       "\\newcommand{\\Bold}[1]{\\mathbf{#1}}\\verb|X=(2*C-B)(3*A)^-1|\n",
       "\\end{math}"
      ],
      "text/plain": [
       "'X=(2*C-B)(3*A)^-1'"
      ]
     },
     "metadata": {},
     "output_type": "display_data"
    }
   ],
   "source": [
    "M=(M^-1)\n",
    "show(\"(3*A)^-1=\",M)\n",
    " \n",
    "show(\"X=(2*C-B)(3*A)^-1\")"
   ]
  },
  {
   "cell_type": "code",
   "execution_count": 6,
   "metadata": {},
   "outputs": [
    {
     "data": {
      "text/html": [
       "<html><script type=\"math/tex; mode=display\">\\newcommand{\\Bold}[1]{\\mathbf{#1}}\\verb|X=(2*C-B)(3*A)^-1=| \\left(\\begin{array}{rrr}\n",
       "-\\frac{5}{4} & -\\frac{5}{24} & \\frac{31}{48} \\\\\n",
       "-\\frac{7}{4} & -\\frac{5}{8} & -\\frac{19}{48} \\\\\n",
       "-\\frac{7}{4} & -\\frac{23}{24} & \\frac{13}{48}\n",
       "\\end{array}\\right)</script></html>"
      ],
      "text/latex": [
       "\\begin{math}\n",
       "\\newcommand{\\Bold}[1]{\\mathbf{#1}}\\verb|X=(2*C-B)(3*A)^-1=| \\left(\\begin{array}{rrr}\n",
       "-\\frac{5}{4} & -\\frac{5}{24} & \\frac{31}{48} \\\\\n",
       "-\\frac{7}{4} & -\\frac{5}{8} & -\\frac{19}{48} \\\\\n",
       "-\\frac{7}{4} & -\\frac{23}{24} & \\frac{13}{48}\n",
       "\\end{array}\\right)\n",
       "\\end{math}"
      ],
      "text/plain": [
       "'X=(2*C-B)(3*A)^-1=' [  -5/4  -5/24  31/48]\n",
       "[  -7/4   -5/8 -19/48]\n",
       "[  -7/4 -23/24  13/48]"
      ]
     },
     "metadata": {},
     "output_type": "display_data"
    }
   ],
   "source": [
    "X=D*M\n",
    "show(\"X=(2*C-B)(3*A)^-1=\", X)"
   ]
  },
  {
   "cell_type": "code",
   "execution_count": 7,
   "metadata": {},
   "outputs": [
    {
     "name": "stdout",
     "output_type": "stream",
     "text": [
      "проверка прошла успешно\n"
     ]
    }
   ],
   "source": [
    "if((3*X*A+B)==(2*C)):\n",
    "    print(\"проверка прошла успешно\")\n",
    "else:\n",
    "    print(\"проверка прошла не успешно\")\n",
    " \n",
    "    "
   ]
  },
  {
   "cell_type": "code",
   "execution_count": null,
   "metadata": {},
   "outputs": [],
   "source": []
  }
 ],
 "metadata": {
  "kernelspec": {
   "display_name": "SageMath 9.2",
   "language": "sage",
   "name": "sagemath"
  },
  "language_info": {
   "codemirror_mode": {
    "name": "ipython",
    "version": 3
   },
   "file_extension": ".py",
   "mimetype": "text/x-python",
   "name": "python",
   "nbconvert_exporter": "python",
   "pygments_lexer": "ipython3",
   "version": "3.7.7"
  }
 },
 "nbformat": 4,
 "nbformat_minor": 2
}
