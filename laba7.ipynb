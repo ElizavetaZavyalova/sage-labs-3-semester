{
 "cells": [
  {
   "cell_type": "markdown",
   "metadata": {},
   "source": [
    "Дана матрица<br>"
   ]
  },
  {
   "cell_type": "code",
   "execution_count": 10,
   "metadata": {},
   "outputs": [
    {
     "data": {
      "text/html": [
       "<html><script type=\"math/tex; mode=display\">\\newcommand{\\Bold}[1]{\\mathbf{#1}}\\verb|A=| \\left(\\begin{array}{rrr}\n",
       "3 & 1 & -2 \\\\\n",
       "2 & 1 & -3 \\\\\n",
       "1 & 0 & -1\n",
       "\\end{array}\\right)</script></html>"
      ],
      "text/latex": [
       "\\begin{math}\n",
       "\\newcommand{\\Bold}[1]{\\mathbf{#1}}\\verb|A=| \\left(\\begin{array}{rrr}\n",
       "3 & 1 & -2 \\\\\n",
       "2 & 1 & -3 \\\\\n",
       "1 & 0 & -1\n",
       "\\end{array}\\right)\n",
       "\\end{math}"
      ],
      "text/plain": [
       "'A=' [ 3  1 -2]\n",
       "[ 2  1 -3]\n",
       "[ 1  0 -1]"
      ]
     },
     "metadata": {},
     "output_type": "display_data"
    }
   ],
   "source": [
    "  \n",
    "A=matrix([[3,1,-2],[2,1,-3],[1,0,-1]])\n",
    "show(\"A=\",A)"
   ]
  },
  {
   "cell_type": "markdown",
   "metadata": {},
   "source": [
    "И базис<br>"
   ]
  },
  {
   "cell_type": "code",
   "execution_count": 7,
   "metadata": {},
   "outputs": [
    {
     "data": {
      "text/html": [
       "<html><script type=\"math/tex; mode=display\">\\newcommand{\\Bold}[1]{\\mathbf{#1}}\\verb|e1=| e_{1} + e_{2} + e_{3}</script></html>"
      ],
      "text/latex": [
       "\\begin{math}\n",
       "\\newcommand{\\Bold}[1]{\\mathbf{#1}}\\verb|e1=| e_{1} + e_{2} + e_{3}\n",
       "\\end{math}"
      ],
      "text/plain": [
       "'e1=' e_1 + e_2 + e_3"
      ]
     },
     "metadata": {},
     "output_type": "display_data"
    },
    {
     "data": {
      "text/html": [
       "<html><script type=\"math/tex; mode=display\">\\newcommand{\\Bold}[1]{\\mathbf{#1}}\\verb|e2=| e_{1} + e_{2}</script></html>"
      ],
      "text/latex": [
       "\\begin{math}\n",
       "\\newcommand{\\Bold}[1]{\\mathbf{#1}}\\verb|e2=| e_{1} + e_{2}\n",
       "\\end{math}"
      ],
      "text/plain": [
       "'e2=' e_1 + e_2"
      ]
     },
     "metadata": {},
     "output_type": "display_data"
    },
    {
     "data": {
      "text/html": [
       "<html><script type=\"math/tex; mode=display\">\\newcommand{\\Bold}[1]{\\mathbf{#1}}\\verb|e3=| 2 \\, e_{2} + e_{3}</script></html>"
      ],
      "text/latex": [
       "\\begin{math}\n",
       "\\newcommand{\\Bold}[1]{\\mathbf{#1}}\\verb|e3=| 2 \\, e_{2} + e_{3}\n",
       "\\end{math}"
      ],
      "text/plain": [
       "'e3=' 2*e_2 + e_3"
      ]
     },
     "metadata": {},
     "output_type": "display_data"
    }
   ],
   "source": [
    "var(\"e_1 e_2 e_3\")\n",
    "e1=e_1+e_2+e_3\n",
    "e2=e_1+e_2\n",
    "e3=2*e_2+e_3\n",
    "show(\"e1=\",e1)\n",
    "show(\"e2=\",e2)\n",
    "show(\"e3=\",e3)"
   ]
  },
  {
   "cell_type": "markdown",
   "metadata": {},
   "source": [
    "Построим матрицу перехода<br>"
   ]
  },
  {
   "cell_type": "code",
   "execution_count": 9,
   "metadata": {},
   "outputs": [
    {
     "data": {
      "text/html": [
       "<html><script type=\"math/tex; mode=display\">\\newcommand{\\Bold}[1]{\\mathbf{#1}}\\verb|B=| \\left(\\begin{array}{rrr}\n",
       "1 & 1 & 0 \\\\\n",
       "1 & 1 & 2 \\\\\n",
       "1 & 0 & 1\n",
       "\\end{array}\\right)</script></html>"
      ],
      "text/latex": [
       "\\begin{math}\n",
       "\\newcommand{\\Bold}[1]{\\mathbf{#1}}\\verb|B=| \\left(\\begin{array}{rrr}\n",
       "1 & 1 & 0 \\\\\n",
       "1 & 1 & 2 \\\\\n",
       "1 & 0 & 1\n",
       "\\end{array}\\right)\n",
       "\\end{math}"
      ],
      "text/plain": [
       "'B=' [1 1 0]\n",
       "[1 1 2]\n",
       "[1 0 1]"
      ]
     },
     "metadata": {},
     "output_type": "display_data"
    }
   ],
   "source": [
    "B=matrix([[1,1,1],[1,1,0],[0,2,1]]).transpose()\n",
    "E=matrix([[1,0,0],[0,1,0],[0,0,1]])\n",
    "show(\"B=\", B)"
   ]
  },
  {
   "cell_type": "markdown",
   "metadata": {},
   "source": [
    "Матрица А в новом базисе<br>"
   ]
  },
  {
   "cell_type": "code",
   "execution_count": 15,
   "metadata": {},
   "outputs": [
    {
     "data": {
      "text/html": [
       "<html><script type=\"math/tex; mode=display\">\\newcommand{\\Bold}[1]{\\mathbf{#1}}\\verb|A'=| \\left(\\begin{array}{rrr}\n",
       "1 & \\frac{3}{2} & -\\frac{1}{2} \\\\\n",
       "1 & \\frac{5}{2} & \\frac{1}{2} \\\\\n",
       "-1 & -\\frac{1}{2} & -\\frac{1}{2}\n",
       "\\end{array}\\right)</script></html>"
      ],
      "text/latex": [
       "\\begin{math}\n",
       "\\newcommand{\\Bold}[1]{\\mathbf{#1}}\\verb|A'=| \\left(\\begin{array}{rrr}\n",
       "1 & \\frac{3}{2} & -\\frac{1}{2} \\\\\n",
       "1 & \\frac{5}{2} & \\frac{1}{2} \\\\\n",
       "-1 & -\\frac{1}{2} & -\\frac{1}{2}\n",
       "\\end{array}\\right)\n",
       "\\end{math}"
      ],
      "text/plain": [
       "\"A'=\" [   1  3/2 -1/2]\n",
       "[   1  5/2  1/2]\n",
       "[  -1 -1/2 -1/2]"
      ]
     },
     "metadata": {},
     "output_type": "display_data"
    }
   ],
   "source": [
    "A_=B**-1*A*B\n",
    "show(\"A'=\",A_)"
   ]
  },
  {
   "cell_type": "code",
   "execution_count": 16,
   "metadata": {},
   "outputs": [
    {
     "name": "stdout",
     "output_type": "stream",
     "text": [
      "ok\n"
     ]
    },
    {
     "data": {
      "text/html": [
       "<html><script type=\"math/tex; mode=display\">\\newcommand{\\Bold}[1]{\\mathbf{#1}}\\verb|A=| -x^{3} + 3 \\, x^{2} + x - 2 \\verb|=A'=| -x^{3} + 3 \\, x^{2} + x - 2</script></html>"
      ],
      "text/latex": [
       "\\begin{math}\n",
       "\\newcommand{\\Bold}[1]{\\mathbf{#1}}\\verb|A=| -x^{3} + 3 \\, x^{2} + x - 2 \\verb|=A'=| -x^{3} + 3 \\, x^{2} + x - 2\n",
       "\\end{math}"
      ],
      "text/plain": [
       "'A=' -x^3 + 3*x^2 + x - 2 \"=A'=\" -x^3 + 3*x^2 + x - 2"
      ]
     },
     "metadata": {},
     "output_type": "display_data"
    }
   ],
   "source": [
    "var(\"x\")\n",
    "F_=A_-x*E\n",
    "F=A-x*E\n",
    "if(det(F)==det(F_)):\n",
    "    print(\"ok\")\n",
    "    show(\"A=\",det(F).simplify_full(),\"=A'=\",det(F_).simplify_full())\n",
    "else:\n",
    "    print(\"not ok\")"
   ]
  },
  {
   "cell_type": "code",
   "execution_count": 5,
   "metadata": {},
   "outputs": [
    {
     "data": {
      "text/html": [
       "<html><script type=\"math/tex; mode=display\">\\newcommand{\\Bold}[1]{\\mathbf{#1}}\\verb|x=| 0.745898311634948</script></html>"
      ],
      "text/latex": [
       "\\begin{math}\n",
       "\\newcommand{\\Bold}[1]{\\mathbf{#1}}\\verb|x=| 0.745898311634948\n",
       "\\end{math}"
      ],
      "text/plain": [
       "'x=' 0.745898311634948"
      ]
     },
     "metadata": {},
     "output_type": "display_data"
    },
    {
     "data": {
      "text/html": [
       "<html><script type=\"math/tex; mode=display\">\\newcommand{\\Bold}[1]{\\mathbf{#1}}\\verb|x=| -0.860805853111703</script></html>"
      ],
      "text/latex": [
       "\\begin{math}\n",
       "\\newcommand{\\Bold}[1]{\\mathbf{#1}}\\verb|x=| -0.860805853111703\n",
       "\\end{math}"
      ],
      "text/plain": [
       "'x=' -0.860805853111703"
      ]
     },
     "metadata": {},
     "output_type": "display_data"
    },
    {
     "data": {
      "text/html": [
       "<html><script type=\"math/tex; mode=display\">\\newcommand{\\Bold}[1]{\\mathbf{#1}}\\verb|x=| 3.11490754147676</script></html>"
      ],
      "text/latex": [
       "\\begin{math}\n",
       "\\newcommand{\\Bold}[1]{\\mathbf{#1}}\\verb|x=| 3.11490754147676\n",
       "\\end{math}"
      ],
      "text/plain": [
       "'x=' 3.11490754147676"
      ]
     },
     "metadata": {},
     "output_type": "display_data"
    }
   ],
   "source": [
    "p=det(F_).simplify_full()\n",
    "r=p.roots()\n",
    "for i in r:\n",
    "    show(\"x=\",i[0].n())"
   ]
  },
  {
   "cell_type": "code",
   "execution_count": null,
   "metadata": {},
   "outputs": [],
   "source": []
  },
  {
   "cell_type": "code",
   "execution_count": null,
   "metadata": {},
   "outputs": [],
   "source": []
  }
 ],
 "metadata": {
  "kernelspec": {
   "display_name": "SageMath 9.2",
   "language": "sage",
   "name": "sagemath"
  },
  "language_info": {
   "codemirror_mode": {
    "name": "ipython",
    "version": 3
   },
   "file_extension": ".py",
   "mimetype": "text/x-python",
   "name": "python",
   "nbconvert_exporter": "python",
   "pygments_lexer": "ipython3",
   "version": "3.7.7"
  }
 },
 "nbformat": 4,
 "nbformat_minor": 4
}
