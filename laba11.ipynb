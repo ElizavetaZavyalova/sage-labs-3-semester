{
 "cells": [
  {
   "cell_type": "code",
   "execution_count": 4,
   "metadata": {},
   "outputs": [
    {
     "data": {
      "text/html": [
       "<html><script type=\"math/tex; mode=display\">\\newcommand{\\Bold}[1]{\\mathbf{#1}}\\verb|A|\\phantom{\\verb!x!}\\verb|=| \\left(\\begin{array}{rrr}\n",
       "7 & -4 & 4 \\\\\n",
       "2 & 3 & 2 \\\\\n",
       "2 & 0 & 5\n",
       "\\end{array}\\right)</script></html>"
      ],
      "text/latex": [
       "\\begin{math}\n",
       "\\newcommand{\\Bold}[1]{\\mathbf{#1}}\\verb|A|\\phantom{\\verb!x!}\\verb|=| \\left(\\begin{array}{rrr}\n",
       "7 & -4 & 4 \\\\\n",
       "2 & 3 & 2 \\\\\n",
       "2 & 0 & 5\n",
       "\\end{array}\\right)\n",
       "\\end{math}"
      ],
      "text/plain": [
       "'A = ' [ 7 -4  4]\n",
       "[ 2  3  2]\n",
       "[ 2  0  5]"
      ]
     },
     "metadata": {},
     "output_type": "display_data"
    }
   ],
   "source": [
    "A = matrix(QQ\n",
    "           , [[7, -4, 4]\n",
    "           , [2, 3, 2]\n",
    "           , [2, 0, 5]])\n",
    "show(\"A = \", A)"
   ]
  },
  {
   "cell_type": "code",
   "execution_count": 5,
   "metadata": {},
   "outputs": [],
   "source": [
    "E= matrix(QQ\n",
    "           , [[1, 0, 0]\n",
    "           , [0, 1, 0]\n",
    "           , [0, 0, 1]])"
   ]
  },
  {
   "cell_type": "markdown",
   "metadata": {},
   "source": [
    "<h1>Часть 1 Составить характерестический многочлен и решить кардано</h1>"
   ]
  },
  {
   "cell_type": "code",
   "execution_count": 6,
   "metadata": {},
   "outputs": [],
   "source": [
    "var('x')\n",
    "_A=A-x*E"
   ]
  },
  {
   "cell_type": "code",
   "execution_count": 7,
   "metadata": {},
   "outputs": [
    {
     "data": {
      "text/html": [
       "<html><script type=\"math/tex; mode=display\">\\newcommand{\\Bold}[1]{\\mathbf{#1}}\\left(\\begin{array}{rrr}\n",
       "-x + 7 & -4 & 4 \\\\\n",
       "2 & -x + 3 & 2 \\\\\n",
       "2 & 0 & -x + 5\n",
       "\\end{array}\\right)</script></html>"
      ],
      "text/latex": [
       "\\begin{math}\n",
       "\\newcommand{\\Bold}[1]{\\mathbf{#1}}\\left(\\begin{array}{rrr}\n",
       "-x + 7 & -4 & 4 \\\\\n",
       "2 & -x + 3 & 2 \\\\\n",
       "2 & 0 & -x + 5\n",
       "\\end{array}\\right)\n",
       "\\end{math}"
      ],
      "text/plain": [
       "[-x + 7     -4      4]\n",
       "[     2 -x + 3      2]\n",
       "[     2      0 -x + 5]"
      ]
     },
     "metadata": {},
     "output_type": "display_data"
    }
   ],
   "source": [
    "show(_A)"
   ]
  },
  {
   "cell_type": "code",
   "execution_count": 8,
   "metadata": {},
   "outputs": [
    {
     "data": {
      "text/html": [
       "<html><script type=\"math/tex; mode=display\">\\newcommand{\\Bold}[1]{\\mathbf{#1}}-x^{3} + 15 \\, x^{2} - 71 \\, x + 105</script></html>"
      ],
      "text/latex": [
       "\\begin{math}\n",
       "\\newcommand{\\Bold}[1]{\\mathbf{#1}}-x^{3} + 15 \\, x^{2} - 71 \\, x + 105\n",
       "\\end{math}"
      ],
      "text/plain": [
       "-x^3 + 15*x^2 - 71*x + 105"
      ]
     },
     "metadata": {},
     "output_type": "display_data"
    },
    {
     "data": {
      "text/html": [
       "<html><script type=\"math/tex; mode=display\">\\newcommand{\\Bold}[1]{\\mathbf{#1}}x^{3} - 15 \\, x^{2} + 71 \\, x - 105</script></html>"
      ],
      "text/latex": [
       "\\begin{math}\n",
       "\\newcommand{\\Bold}[1]{\\mathbf{#1}}x^{3} - 15 \\, x^{2} + 71 \\, x - 105\n",
       "\\end{math}"
      ],
      "text/plain": [
       "x^3 - 15*x^2 + 71*x - 105"
      ]
     },
     "metadata": {},
     "output_type": "display_data"
    }
   ],
   "source": [
    "p(x)=(det(_A).simplify_full())\n",
    "show(p(x))\n",
    "p(x)=p(x)/-1\n",
    "show(p(x))\n",
    "a=-1\n",
    "b=15\n",
    "c=-71\n",
    "d=105\n",
    " "
   ]
  },
  {
   "cell_type": "code",
   "execution_count": 9,
   "metadata": {},
   "outputs": [
    {
     "data": {
      "text/html": [
       "<html><script type=\"math/tex; mode=display\">\\newcommand{\\Bold}[1]{\\mathbf{#1}}5</script></html>"
      ],
      "text/latex": [
       "\\begin{math}\n",
       "\\newcommand{\\Bold}[1]{\\mathbf{#1}}5\n",
       "\\end{math}"
      ],
      "text/plain": [
       "5"
      ]
     },
     "metadata": {},
     "output_type": "display_data"
    }
   ],
   "source": [
    "t=-(1/3)*(-15)\n",
    "show(t)\n",
    "y=x+t"
   ]
  },
  {
   "cell_type": "code",
   "execution_count": 10,
   "metadata": {},
   "outputs": [
    {
     "data": {
      "text/html": [
       "<html><script type=\"math/tex; mode=display\">\\newcommand{\\Bold}[1]{\\mathbf{#1}}x^{3} - 4 \\, x</script></html>"
      ],
      "text/latex": [
       "\\begin{math}\n",
       "\\newcommand{\\Bold}[1]{\\mathbf{#1}}x^{3} - 4 \\, x\n",
       "\\end{math}"
      ],
      "text/plain": [
       "x^3 - 4*x"
      ]
     },
     "metadata": {},
     "output_type": "display_data"
    }
   ],
   "source": [
    "show(p(y).simplify_full())"
   ]
  },
  {
   "cell_type": "code",
   "execution_count": 11,
   "metadata": {},
   "outputs": [],
   "source": [
    "def mace_cube(param):\n",
    "    if(param<0):\n",
    "        return -((-param)**(1/3))\n",
    "    else:\n",
    "        return param**(1/3)"
   ]
  },
  {
   "cell_type": "code",
   "execution_count": 12,
   "metadata": {},
   "outputs": [],
   "source": [
    "def safe_cubic_root(_in_param):\n",
    "    if _in_param.imag():\n",
    "        # sgn для комплексного числа выдаст ошибку в дальнейшем, когда будет вызван numerical_approx\n",
    "        # поэтому придется просто возводить в степень\n",
    "        return (_in_param)**(1/3)\n",
    "    else:\n",
    "        return sgn(_in_param)*(abs(_in_param)**(1/3))"
   ]
  },
  {
   "cell_type": "code",
   "execution_count": 13,
   "metadata": {},
   "outputs": [
    {
     "data": {
      "text/html": [
       "<html><script type=\"math/tex; mode=display\">\\newcommand{\\Bold}[1]{\\mathbf{#1}}\\frac{8}{3} \\, \\sqrt{-\\frac{1}{3}}</script></html>"
      ],
      "text/latex": [
       "\\begin{math}\n",
       "\\newcommand{\\Bold}[1]{\\mathbf{#1}}\\frac{8}{3} \\, \\sqrt{-\\frac{1}{3}}\n",
       "\\end{math}"
      ],
      "text/plain": [
       "8/3*sqrt(-1/3)"
      ]
     },
     "metadata": {},
     "output_type": "display_data"
    },
    {
     "data": {
      "text/html": [
       "<html><script type=\"math/tex; mode=display\">\\newcommand{\\Bold}[1]{\\mathbf{#1}}2 \\, \\left(\\frac{1}{3}\\right)^{\\frac{1}{3}} \\left(-\\frac{1}{3}\\right)^{\\frac{1}{6}}</script></html>"
      ],
      "text/latex": [
       "\\begin{math}\n",
       "\\newcommand{\\Bold}[1]{\\mathbf{#1}}2 \\, \\left(\\frac{1}{3}\\right)^{\\frac{1}{3}} \\left(-\\frac{1}{3}\\right)^{\\frac{1}{6}}\n",
       "\\end{math}"
      ],
      "text/plain": [
       "2*(1/3)^(1/3)*(-1/3)^(1/6)"
      ]
     },
     "metadata": {},
     "output_type": "display_data"
    },
    {
     "data": {
      "text/html": [
       "<html><script type=\"math/tex; mode=display\">\\newcommand{\\Bold}[1]{\\mathbf{#1}}2 \\, \\left(\\frac{1}{3}\\right)^{\\frac{1}{3}} \\left(-\\sqrt{-\\frac{1}{3}}\\right)^{\\frac{1}{3}}</script></html>"
      ],
      "text/latex": [
       "\\begin{math}\n",
       "\\newcommand{\\Bold}[1]{\\mathbf{#1}}2 \\, \\left(\\frac{1}{3}\\right)^{\\frac{1}{3}} \\left(-\\sqrt{-\\frac{1}{3}}\\right)^{\\frac{1}{3}}\n",
       "\\end{math}"
      ],
      "text/plain": [
       "2*(1/3)^(1/3)*(-sqrt(-1/3))^(1/3)"
      ]
     },
     "metadata": {},
     "output_type": "display_data"
    },
    {
     "name": "stdout",
     "output_type": "stream",
     "text": [
      "x0 =  7.00000000000000\n",
      "x1 =  3.00000000000000\n",
      "x2 =  5.00000000000000\n"
     ]
    }
   ],
   "source": [
    "p=-4\n",
    "q=0\n",
    "S=((q/2)**2+(p/3)**3)**(1/2)\n",
    "show(S)\n",
    "v=mace_cube((-(q/2)- S))\n",
    "u=mace_cube((-(q/2)+S))\n",
    "show(u)\n",
    "show(v)\n",
    "o=0\n",
    "step=(2*pi)/3\n",
    "X=[u,u,u]\n",
    "for i in range(3):\n",
    "    X[i]=((u.n()+v.n())*cos(o)+(u.n()-v.n())*sin(o)*I+t).real()\n",
    "    o+=step\n",
    "    print(f\"x{i} = \", n(X[i]))"
   ]
  },
  {
   "cell_type": "markdown",
   "metadata": {},
   "source": [
    "<h1>Собственные числа собственный вектор в каноничном базисе</h1>"
   ]
  },
  {
   "cell_type": "code",
   "execution_count": 14,
   "metadata": {},
   "outputs": [],
   "source": [
    "x_1=X[0].n()\n",
    "k_1=1\n",
    "x_2=X[1].n()\n",
    "k_2=1\n",
    "x_3=X[2].n()\n",
    "k_3=1\n"
   ]
  },
  {
   "cell_type": "code",
   "execution_count": 15,
   "metadata": {},
   "outputs": [
    {
     "data": {
      "text/html": [
       "<html><script type=\"math/tex; mode=display\">\\newcommand{\\Bold}[1]{\\mathbf{#1}}\\left(\\begin{array}{rrr}\n",
       "0.000000000000000 & -4.00000000000000 & 4.00000000000000 \\\\\n",
       "2.00000000000000 & -4.00000000000000 & 2.00000000000000 \\\\\n",
       "2.00000000000000 & 0.000000000000000 & -2.00000000000000\n",
       "\\end{array}\\right)</script></html>"
      ],
      "text/latex": [
       "\\begin{math}\n",
       "\\newcommand{\\Bold}[1]{\\mathbf{#1}}\\left(\\begin{array}{rrr}\n",
       "0.000000000000000 & -4.00000000000000 & 4.00000000000000 \\\\\n",
       "2.00000000000000 & -4.00000000000000 & 2.00000000000000 \\\\\n",
       "2.00000000000000 & 0.000000000000000 & -2.00000000000000\n",
       "\\end{array}\\right)\n",
       "\\end{math}"
      ],
      "text/plain": [
       "[0.000000000000000 -4.00000000000000  4.00000000000000]\n",
       "[ 2.00000000000000 -4.00000000000000  2.00000000000000]\n",
       "[ 2.00000000000000 0.000000000000000 -2.00000000000000]"
      ]
     },
     "metadata": {},
     "output_type": "display_data"
    },
    {
     "data": {
      "text/html": [
       "<html><script type=\"math/tex; mode=display\">\\newcommand{\\Bold}[1]{\\mathbf{#1}}\\verb|ступ.|\\phantom{\\verb!x!}\\verb|вид|\\phantom{\\verb!x!}\\verb|=| \\left(\\begin{array}{rrr}\n",
       "1.00000000000000 & 0.000000000000000 & -1.00000000000000 \\\\\n",
       "0.000000000000000 & 1.00000000000000 & -1.00000000000000 \\\\\n",
       "0.000000000000000 & 0.000000000000000 & 0.000000000000000\n",
       "\\end{array}\\right)</script></html>"
      ],
      "text/latex": [
       "\\begin{math}\n",
       "\\newcommand{\\Bold}[1]{\\mathbf{#1}}\\verb|ступ.|\\phantom{\\verb!x!}\\verb|вид|\\phantom{\\verb!x!}\\verb|=| \\left(\\begin{array}{rrr}\n",
       "1.00000000000000 & 0.000000000000000 & -1.00000000000000 \\\\\n",
       "0.000000000000000 & 1.00000000000000 & -1.00000000000000 \\\\\n",
       "0.000000000000000 & 0.000000000000000 & 0.000000000000000\n",
       "\\end{array}\\right)\n",
       "\\end{math}"
      ],
      "text/plain": [
       "'ступ. вид = ' [ 1.00000000000000 0.000000000000000 -1.00000000000000]\n",
       "[0.000000000000000  1.00000000000000 -1.00000000000000]\n",
       "[0.000000000000000 0.000000000000000 0.000000000000000]"
      ]
     },
     "metadata": {},
     "output_type": "display_data"
    },
    {
     "data": {
      "text/html": [
       "<html><script type=\"math/tex; mode=display\">\\newcommand{\\Bold}[1]{\\mathbf{#1}}\\verb|ранг|\\phantom{\\verb!x!}\\verb|=| 2</script></html>"
      ],
      "text/latex": [
       "\\begin{math}\n",
       "\\newcommand{\\Bold}[1]{\\mathbf{#1}}\\verb|ранг|\\phantom{\\verb!x!}\\verb|=| 2\n",
       "\\end{math}"
      ],
      "text/plain": [
       "'ранг = ' 2"
      ]
     },
     "metadata": {},
     "output_type": "display_data"
    }
   ],
   "source": [
    "B1 = A -  x_1*identity_matrix(3)\n",
    "show(B1)\n",
    "show('ступ. вид = ', B1.echelon_form())\n",
    "r1= rank(B1)\n",
    "show('ранг = ', r1)"
   ]
  },
  {
   "cell_type": "code",
   "execution_count": 16,
   "metadata": {},
   "outputs": [
    {
     "data": {
      "text/html": [
       "<html><script type=\"math/tex; mode=display\">\\newcommand{\\Bold}[1]{\\mathbf{#1}}\\verb|C1| \\left(\\begin{array}{r}\n",
       "1 \\\\\n",
       "1 \\\\\n",
       "1\n",
       "\\end{array}\\right)</script></html>"
      ],
      "text/latex": [
       "\\begin{math}\n",
       "\\newcommand{\\Bold}[1]{\\mathbf{#1}}\\verb|C1| \\left(\\begin{array}{r}\n",
       "1 \\\\\n",
       "1 \\\\\n",
       "1\n",
       "\\end{array}\\right)\n",
       "\\end{math}"
      ],
      "text/plain": [
       "'C1' [1]\n",
       "[1]\n",
       "[1]"
      ]
     },
     "metadata": {},
     "output_type": "display_data"
    }
   ],
   "source": [
    "e1=matrix(QQ,[1,1,1]).transpose()\n",
    "show(\"C1\",e1)"
   ]
  },
  {
   "cell_type": "code",
   "execution_count": 17,
   "metadata": {},
   "outputs": [
    {
     "data": {
      "text/html": [
       "<html><script type=\"math/tex; mode=display\">\\newcommand{\\Bold}[1]{\\mathbf{#1}}\\left(\\begin{array}{rrr}\n",
       "4.00000000000000 & -4.00000000000000 & 4.00000000000000 \\\\\n",
       "2.00000000000000 & 0.000000000000000 & 2.00000000000000 \\\\\n",
       "2.00000000000000 & 0.000000000000000 & 2.00000000000000\n",
       "\\end{array}\\right)</script></html>"
      ],
      "text/latex": [
       "\\begin{math}\n",
       "\\newcommand{\\Bold}[1]{\\mathbf{#1}}\\left(\\begin{array}{rrr}\n",
       "4.00000000000000 & -4.00000000000000 & 4.00000000000000 \\\\\n",
       "2.00000000000000 & 0.000000000000000 & 2.00000000000000 \\\\\n",
       "2.00000000000000 & 0.000000000000000 & 2.00000000000000\n",
       "\\end{array}\\right)\n",
       "\\end{math}"
      ],
      "text/plain": [
       "[ 4.00000000000000 -4.00000000000000  4.00000000000000]\n",
       "[ 2.00000000000000 0.000000000000000  2.00000000000000]\n",
       "[ 2.00000000000000 0.000000000000000  2.00000000000000]"
      ]
     },
     "metadata": {},
     "output_type": "display_data"
    },
    {
     "data": {
      "text/html": [
       "<html><script type=\"math/tex; mode=display\">\\newcommand{\\Bold}[1]{\\mathbf{#1}}\\verb|ступ.|\\phantom{\\verb!x!}\\verb|вид|\\phantom{\\verb!x!}\\verb|=| \\left(\\begin{array}{rrr}\n",
       "1.00000000000000 & 0.000000000000000 & 1.00000000000000 \\\\\n",
       "0.000000000000000 & 1.00000000000000 & 0.000000000000000 \\\\\n",
       "0.000000000000000 & 0.000000000000000 & 0.000000000000000\n",
       "\\end{array}\\right)</script></html>"
      ],
      "text/latex": [
       "\\begin{math}\n",
       "\\newcommand{\\Bold}[1]{\\mathbf{#1}}\\verb|ступ.|\\phantom{\\verb!x!}\\verb|вид|\\phantom{\\verb!x!}\\verb|=| \\left(\\begin{array}{rrr}\n",
       "1.00000000000000 & 0.000000000000000 & 1.00000000000000 \\\\\n",
       "0.000000000000000 & 1.00000000000000 & 0.000000000000000 \\\\\n",
       "0.000000000000000 & 0.000000000000000 & 0.000000000000000\n",
       "\\end{array}\\right)\n",
       "\\end{math}"
      ],
      "text/plain": [
       "'ступ. вид = ' [ 1.00000000000000 0.000000000000000  1.00000000000000]\n",
       "[0.000000000000000  1.00000000000000 0.000000000000000]\n",
       "[0.000000000000000 0.000000000000000 0.000000000000000]"
      ]
     },
     "metadata": {},
     "output_type": "display_data"
    },
    {
     "data": {
      "text/html": [
       "<html><script type=\"math/tex; mode=display\">\\newcommand{\\Bold}[1]{\\mathbf{#1}}\\verb|ранг|\\phantom{\\verb!x!}\\verb|=| 2</script></html>"
      ],
      "text/latex": [
       "\\begin{math}\n",
       "\\newcommand{\\Bold}[1]{\\mathbf{#1}}\\verb|ранг|\\phantom{\\verb!x!}\\verb|=| 2\n",
       "\\end{math}"
      ],
      "text/plain": [
       "'ранг = ' 2"
      ]
     },
     "metadata": {},
     "output_type": "display_data"
    }
   ],
   "source": [
    "B2 = A -  x_2*identity_matrix(3)\n",
    "show(B2)\n",
    "show('ступ. вид = ', B2.echelon_form())\n",
    "r2= rank(B2)\n",
    "show('ранг = ', r2)"
   ]
  },
  {
   "cell_type": "code",
   "execution_count": 18,
   "metadata": {},
   "outputs": [
    {
     "data": {
      "text/html": [
       "<html><script type=\"math/tex; mode=display\">\\newcommand{\\Bold}[1]{\\mathbf{#1}}\\verb|C2| \\left(\\begin{array}{r}\n",
       "1 \\\\\n",
       "0 \\\\\n",
       "-1\n",
       "\\end{array}\\right)</script></html>"
      ],
      "text/latex": [
       "\\begin{math}\n",
       "\\newcommand{\\Bold}[1]{\\mathbf{#1}}\\verb|C2| \\left(\\begin{array}{r}\n",
       "1 \\\\\n",
       "0 \\\\\n",
       "-1\n",
       "\\end{array}\\right)\n",
       "\\end{math}"
      ],
      "text/plain": [
       "'C2' [ 1]\n",
       "[ 0]\n",
       "[-1]"
      ]
     },
     "metadata": {},
     "output_type": "display_data"
    }
   ],
   "source": [
    "e2=matrix(QQ,[1,0,-1]).transpose()\n",
    "show(\"C2\",e2)"
   ]
  },
  {
   "cell_type": "code",
   "execution_count": 19,
   "metadata": {},
   "outputs": [
    {
     "data": {
      "text/html": [
       "<html><script type=\"math/tex; mode=display\">\\newcommand{\\Bold}[1]{\\mathbf{#1}}\\left(\\begin{array}{rrr}\n",
       "2.00000000000000 & -4.00000000000000 & 4.00000000000000 \\\\\n",
       "2.00000000000000 & -2.00000000000000 & 2.00000000000000 \\\\\n",
       "2.00000000000000 & 0.000000000000000 & 0.000000000000000\n",
       "\\end{array}\\right)</script></html>"
      ],
      "text/latex": [
       "\\begin{math}\n",
       "\\newcommand{\\Bold}[1]{\\mathbf{#1}}\\left(\\begin{array}{rrr}\n",
       "2.00000000000000 & -4.00000000000000 & 4.00000000000000 \\\\\n",
       "2.00000000000000 & -2.00000000000000 & 2.00000000000000 \\\\\n",
       "2.00000000000000 & 0.000000000000000 & 0.000000000000000\n",
       "\\end{array}\\right)\n",
       "\\end{math}"
      ],
      "text/plain": [
       "[ 2.00000000000000 -4.00000000000000  4.00000000000000]\n",
       "[ 2.00000000000000 -2.00000000000000  2.00000000000000]\n",
       "[ 2.00000000000000 0.000000000000000 0.000000000000000]"
      ]
     },
     "metadata": {},
     "output_type": "display_data"
    },
    {
     "data": {
      "text/html": [
       "<html><script type=\"math/tex; mode=display\">\\newcommand{\\Bold}[1]{\\mathbf{#1}}\\verb|ступ.|\\phantom{\\verb!x!}\\verb|вид|\\phantom{\\verb!x!}\\verb|=| \\left(\\begin{array}{rrr}\n",
       "1.00000000000000 & 0.000000000000000 & 0.000000000000000 \\\\\n",
       "0.000000000000000 & 1.00000000000000 & -1.00000000000000 \\\\\n",
       "0.000000000000000 & 0.000000000000000 & 0.000000000000000\n",
       "\\end{array}\\right)</script></html>"
      ],
      "text/latex": [
       "\\begin{math}\n",
       "\\newcommand{\\Bold}[1]{\\mathbf{#1}}\\verb|ступ.|\\phantom{\\verb!x!}\\verb|вид|\\phantom{\\verb!x!}\\verb|=| \\left(\\begin{array}{rrr}\n",
       "1.00000000000000 & 0.000000000000000 & 0.000000000000000 \\\\\n",
       "0.000000000000000 & 1.00000000000000 & -1.00000000000000 \\\\\n",
       "0.000000000000000 & 0.000000000000000 & 0.000000000000000\n",
       "\\end{array}\\right)\n",
       "\\end{math}"
      ],
      "text/plain": [
       "'ступ. вид = ' [ 1.00000000000000 0.000000000000000 0.000000000000000]\n",
       "[0.000000000000000  1.00000000000000 -1.00000000000000]\n",
       "[0.000000000000000 0.000000000000000 0.000000000000000]"
      ]
     },
     "metadata": {},
     "output_type": "display_data"
    },
    {
     "data": {
      "text/html": [
       "<html><script type=\"math/tex; mode=display\">\\newcommand{\\Bold}[1]{\\mathbf{#1}}\\verb|ранг|\\phantom{\\verb!x!}\\verb|=| 2</script></html>"
      ],
      "text/latex": [
       "\\begin{math}\n",
       "\\newcommand{\\Bold}[1]{\\mathbf{#1}}\\verb|ранг|\\phantom{\\verb!x!}\\verb|=| 2\n",
       "\\end{math}"
      ],
      "text/plain": [
       "'ранг = ' 2"
      ]
     },
     "metadata": {},
     "output_type": "display_data"
    }
   ],
   "source": [
    "B3 = A -  x_3*identity_matrix(3)\n",
    "show(B3)\n",
    "show('ступ. вид = ', B3.echelon_form())\n",
    "r3= rank(B1)\n",
    "show('ранг = ', r3)"
   ]
  },
  {
   "cell_type": "code",
   "execution_count": 20,
   "metadata": {},
   "outputs": [
    {
     "data": {
      "text/html": [
       "<html><script type=\"math/tex; mode=display\">\\newcommand{\\Bold}[1]{\\mathbf{#1}}\\verb|C3| \\left(\\begin{array}{r}\n",
       "0 \\\\\n",
       "1 \\\\\n",
       "1\n",
       "\\end{array}\\right)</script></html>"
      ],
      "text/latex": [
       "\\begin{math}\n",
       "\\newcommand{\\Bold}[1]{\\mathbf{#1}}\\verb|C3| \\left(\\begin{array}{r}\n",
       "0 \\\\\n",
       "1 \\\\\n",
       "1\n",
       "\\end{array}\\right)\n",
       "\\end{math}"
      ],
      "text/plain": [
       "'C3' [0]\n",
       "[1]\n",
       "[1]"
      ]
     },
     "metadata": {},
     "output_type": "display_data"
    }
   ],
   "source": [
    "e3=matrix(QQ,[0,1,1]).transpose()\n",
    "show(\"C3\",e3)"
   ]
  },
  {
   "cell_type": "code",
   "execution_count": 21,
   "metadata": {},
   "outputs": [
    {
     "data": {
      "text/html": [
       "<html><script type=\"math/tex; mode=display\">\\newcommand{\\Bold}[1]{\\mathbf{#1}}\\verb|f=C1| \\left(\\begin{array}{r}\n",
       "1 \\\\\n",
       "1 \\\\\n",
       "1\n",
       "\\end{array}\\right) \\verb|+C2| \\left(\\begin{array}{r}\n",
       "1 \\\\\n",
       "0 \\\\\n",
       "-1\n",
       "\\end{array}\\right) \\verb|+C3| \\left(\\begin{array}{r}\n",
       "0 \\\\\n",
       "1 \\\\\n",
       "1\n",
       "\\end{array}\\right)</script></html>"
      ],
      "text/latex": [
       "\\begin{math}\n",
       "\\newcommand{\\Bold}[1]{\\mathbf{#1}}\\verb|f=C1| \\left(\\begin{array}{r}\n",
       "1 \\\\\n",
       "1 \\\\\n",
       "1\n",
       "\\end{array}\\right) \\verb|+C2| \\left(\\begin{array}{r}\n",
       "1 \\\\\n",
       "0 \\\\\n",
       "-1\n",
       "\\end{array}\\right) \\verb|+C3| \\left(\\begin{array}{r}\n",
       "0 \\\\\n",
       "1 \\\\\n",
       "1\n",
       "\\end{array}\\right)\n",
       "\\end{math}"
      ],
      "text/plain": [
       "'f=C1' [1]\n",
       "[1]\n",
       "[1] '+C2' [ 1]\n",
       "[ 0]\n",
       "[-1] '+C3' [0]\n",
       "[1]\n",
       "[1]"
      ]
     },
     "metadata": {},
     "output_type": "display_data"
    }
   ],
   "source": [
    "show(\"f=C1\",e1, \"+C2\", e2, \"+C3\", e3)"
   ]
  },
  {
   "cell_type": "markdown",
   "metadata": {},
   "source": [
    "<h1>Собственный вектор в базисе</h1>"
   ]
  },
  {
   "cell_type": "code",
   "execution_count": 22,
   "metadata": {},
   "outputs": [
    {
     "data": {
      "text/html": [
       "<html><script type=\"math/tex; mode=display\">\\newcommand{\\Bold}[1]{\\mathbf{#1}}\\left(\\begin{array}{rrr}\n",
       "1 & 1 & 0 \\\\\n",
       "1 & -1 & 1 \\\\\n",
       "0 & 1 & -1\n",
       "\\end{array}\\right)</script></html>"
      ],
      "text/latex": [
       "\\begin{math}\n",
       "\\newcommand{\\Bold}[1]{\\mathbf{#1}}\\left(\\begin{array}{rrr}\n",
       "1 & 1 & 0 \\\\\n",
       "1 & -1 & 1 \\\\\n",
       "0 & 1 & -1\n",
       "\\end{array}\\right)\n",
       "\\end{math}"
      ],
      "text/plain": [
       "[ 1  1  0]\n",
       "[ 1 -1  1]\n",
       "[ 0  1 -1]"
      ]
     },
     "metadata": {},
     "output_type": "display_data"
    }
   ],
   "source": [
    "S = matrix(QQ\n",
    "           , [[1, 1, 0]\n",
    "           , [1, -1, 1]\n",
    "           , [0, 1, -1]])\n",
    "show(S)"
   ]
  },
  {
   "cell_type": "code",
   "execution_count": 23,
   "metadata": {},
   "outputs": [
    {
     "data": {
      "text/html": [
       "<html><script type=\"math/tex; mode=display\">\\newcommand{\\Bold}[1]{\\mathbf{#1}}\\left(\\begin{array}{rrr}\n",
       "7 & 8 & -4 \\\\\n",
       "-4 & 7 & -4 \\\\\n",
       "-6 & 0 & 1\n",
       "\\end{array}\\right)</script></html>"
      ],
      "text/latex": [
       "\\begin{math}\n",
       "\\newcommand{\\Bold}[1]{\\mathbf{#1}}\\left(\\begin{array}{rrr}\n",
       "7 & 8 & -4 \\\\\n",
       "-4 & 7 & -4 \\\\\n",
       "-6 & 0 & 1\n",
       "\\end{array}\\right)\n",
       "\\end{math}"
      ],
      "text/plain": [
       "[ 7  8 -4]\n",
       "[-4  7 -4]\n",
       "[-6  0  1]"
      ]
     },
     "metadata": {},
     "output_type": "display_data"
    }
   ],
   "source": [
    "A0=S**-1*A*S\n",
    "show(A0)"
   ]
  },
  {
   "cell_type": "code",
   "execution_count": 29,
   "metadata": {},
   "outputs": [
    {
     "data": {
      "text/html": [
       "<html><script type=\"math/tex; mode=display\">\\newcommand{\\Bold}[1]{\\mathbf{#1}}-x^{3} + 15 \\, x^{2} - 71 \\, x + 105</script></html>"
      ],
      "text/latex": [
       "\\begin{math}\n",
       "\\newcommand{\\Bold}[1]{\\mathbf{#1}}-x^{3} + 15 \\, x^{2} - 71 \\, x + 105\n",
       "\\end{math}"
      ],
      "text/plain": [
       "-x^3 + 15*x^2 - 71*x + 105"
      ]
     },
     "metadata": {},
     "output_type": "display_data"
    }
   ],
   "source": [
    "show((det(A0-x*identity_matrix(3))).simplify_full())"
   ]
  },
  {
   "cell_type": "code",
   "execution_count": 36,
   "metadata": {},
   "outputs": [
    {
     "data": {
      "text/html": [
       "<html><script type=\"math/tex; mode=display\">\\newcommand{\\Bold}[1]{\\mathbf{#1}}\\left(\\begin{array}{rrr}\n",
       "0.000000000000000 & 8.00000000000000 & -4.00000000000000 \\\\\n",
       "-4.00000000000000 & 0.000000000000000 & -4.00000000000000 \\\\\n",
       "-6.00000000000000 & 0.000000000000000 & -6.00000000000000\n",
       "\\end{array}\\right)</script></html>"
      ],
      "text/latex": [
       "\\begin{math}\n",
       "\\newcommand{\\Bold}[1]{\\mathbf{#1}}\\left(\\begin{array}{rrr}\n",
       "0.000000000000000 & 8.00000000000000 & -4.00000000000000 \\\\\n",
       "-4.00000000000000 & 0.000000000000000 & -4.00000000000000 \\\\\n",
       "-6.00000000000000 & 0.000000000000000 & -6.00000000000000\n",
       "\\end{array}\\right)\n",
       "\\end{math}"
      ],
      "text/plain": [
       "[0.000000000000000  8.00000000000000 -4.00000000000000]\n",
       "[-4.00000000000000 0.000000000000000 -4.00000000000000]\n",
       "[-6.00000000000000 0.000000000000000 -6.00000000000000]"
      ]
     },
     "metadata": {},
     "output_type": "display_data"
    },
    {
     "data": {
      "text/html": [
       "<html><script type=\"math/tex; mode=display\">\\newcommand{\\Bold}[1]{\\mathbf{#1}}\\verb|ступ.|\\phantom{\\verb!x!}\\verb|вид|\\phantom{\\verb!x!}\\verb|=| \\left(\\begin{array}{rrr}\n",
       "1.00000000000000 & -0.000000000000000 & 1.00000000000000 \\\\\n",
       "0.000000000000000 & 1.00000000000000 & -0.500000000000000 \\\\\n",
       "0.000000000000000 & 0.000000000000000 & 0.000000000000000\n",
       "\\end{array}\\right)</script></html>"
      ],
      "text/latex": [
       "\\begin{math}\n",
       "\\newcommand{\\Bold}[1]{\\mathbf{#1}}\\verb|ступ.|\\phantom{\\verb!x!}\\verb|вид|\\phantom{\\verb!x!}\\verb|=| \\left(\\begin{array}{rrr}\n",
       "1.00000000000000 & -0.000000000000000 & 1.00000000000000 \\\\\n",
       "0.000000000000000 & 1.00000000000000 & -0.500000000000000 \\\\\n",
       "0.000000000000000 & 0.000000000000000 & 0.000000000000000\n",
       "\\end{array}\\right)\n",
       "\\end{math}"
      ],
      "text/plain": [
       "'ступ. вид = ' [  1.00000000000000 -0.000000000000000   1.00000000000000]\n",
       "[ 0.000000000000000   1.00000000000000 -0.500000000000000]\n",
       "[ 0.000000000000000  0.000000000000000  0.000000000000000]"
      ]
     },
     "metadata": {},
     "output_type": "display_data"
    },
    {
     "data": {
      "text/html": [
       "<html><script type=\"math/tex; mode=display\">\\newcommand{\\Bold}[1]{\\mathbf{#1}}\\verb|ранг|\\phantom{\\verb!x!}\\verb|=| 2</script></html>"
      ],
      "text/latex": [
       "\\begin{math}\n",
       "\\newcommand{\\Bold}[1]{\\mathbf{#1}}\\verb|ранг|\\phantom{\\verb!x!}\\verb|=| 2\n",
       "\\end{math}"
      ],
      "text/plain": [
       "'ранг = ' 2"
      ]
     },
     "metadata": {},
     "output_type": "display_data"
    }
   ],
   "source": [
    "_B1 = A0 -  x_1*identity_matrix(3)\n",
    "show(_B1)\n",
    "show('ступ. вид = ', _B1.echelon_form())\n",
    "_r1= rank(_B1)\n",
    "show('ранг = ', _r1)"
   ]
  },
  {
   "cell_type": "code",
   "execution_count": 55,
   "metadata": {},
   "outputs": [
    {
     "data": {
      "text/html": [
       "<html><script type=\"math/tex; mode=display\">\\newcommand{\\Bold}[1]{\\mathbf{#1}}\\verb|C1'| \\left(\\begin{array}{r}\n",
       "-\\frac{1}{3} \\\\\n",
       "\\frac{2}{3} \\\\\n",
       "1\n",
       "\\end{array}\\right)</script></html>"
      ],
      "text/latex": [
       "\\begin{math}\n",
       "\\newcommand{\\Bold}[1]{\\mathbf{#1}}\\verb|C1'| \\left(\\begin{array}{r}\n",
       "-\\frac{1}{3} \\\\\n",
       "\\frac{2}{3} \\\\\n",
       "1\n",
       "\\end{array}\\right)\n",
       "\\end{math}"
      ],
      "text/plain": [
       "\"C1'\" [-1/3]\n",
       "[ 2/3]\n",
       "[   1]"
      ]
     },
     "metadata": {},
     "output_type": "display_data"
    }
   ],
   "source": [
    "e3_=matrix(QQ,[-1,1/2,1]).transpose()\n",
    "show(\"C3'\",e3_)\n",
    " "
   ]
  },
  {
   "cell_type": "code",
   "execution_count": null,
   "metadata": {},
   "outputs": [],
   "source": [
    "show((A0-x*identity_matrix(3))"
   ]
  },
  {
   "cell_type": "code",
   "execution_count": 33,
   "metadata": {},
   "outputs": [
    {
     "data": {
      "text/html": [
       "<html><script type=\"math/tex; mode=display\">\\newcommand{\\Bold}[1]{\\mathbf{#1}}\\left(\\begin{array}{rrr}\n",
       "4.00000000000000 & 8.00000000000000 & -4.00000000000000 \\\\\n",
       "-4.00000000000000 & 4.00000000000000 & -4.00000000000000 \\\\\n",
       "-6.00000000000000 & 0.000000000000000 & -2.00000000000000\n",
       "\\end{array}\\right)</script></html>"
      ],
      "text/latex": [
       "\\begin{math}\n",
       "\\newcommand{\\Bold}[1]{\\mathbf{#1}}\\left(\\begin{array}{rrr}\n",
       "4.00000000000000 & 8.00000000000000 & -4.00000000000000 \\\\\n",
       "-4.00000000000000 & 4.00000000000000 & -4.00000000000000 \\\\\n",
       "-6.00000000000000 & 0.000000000000000 & -2.00000000000000\n",
       "\\end{array}\\right)\n",
       "\\end{math}"
      ],
      "text/plain": [
       "[ 4.00000000000000  8.00000000000000 -4.00000000000000]\n",
       "[-4.00000000000000  4.00000000000000 -4.00000000000000]\n",
       "[-6.00000000000000 0.000000000000000 -2.00000000000000]"
      ]
     },
     "metadata": {},
     "output_type": "display_data"
    },
    {
     "data": {
      "text/html": [
       "<html><script type=\"math/tex; mode=display\">\\newcommand{\\Bold}[1]{\\mathbf{#1}}\\verb|ступ.|\\phantom{\\verb!x!}\\verb|вид|\\phantom{\\verb!x!}\\verb|=| \\left(\\begin{array}{rrr}\n",
       "1.00000000000000 & 0.000000000000000 & 0.333333333333333 \\\\\n",
       "0.000000000000000 & 1.00000000000000 & -0.666666666666667 \\\\\n",
       "0.000000000000000 & 0.000000000000000 & 0.000000000000000\n",
       "\\end{array}\\right)</script></html>"
      ],
      "text/latex": [
       "\\begin{math}\n",
       "\\newcommand{\\Bold}[1]{\\mathbf{#1}}\\verb|ступ.|\\phantom{\\verb!x!}\\verb|вид|\\phantom{\\verb!x!}\\verb|=| \\left(\\begin{array}{rrr}\n",
       "1.00000000000000 & 0.000000000000000 & 0.333333333333333 \\\\\n",
       "0.000000000000000 & 1.00000000000000 & -0.666666666666667 \\\\\n",
       "0.000000000000000 & 0.000000000000000 & 0.000000000000000\n",
       "\\end{array}\\right)\n",
       "\\end{math}"
      ],
      "text/plain": [
       "'ступ. вид = ' [  1.00000000000000  0.000000000000000  0.333333333333333]\n",
       "[ 0.000000000000000   1.00000000000000 -0.666666666666667]\n",
       "[ 0.000000000000000  0.000000000000000  0.000000000000000]"
      ]
     },
     "metadata": {},
     "output_type": "display_data"
    },
    {
     "data": {
      "text/html": [
       "<html><script type=\"math/tex; mode=display\">\\newcommand{\\Bold}[1]{\\mathbf{#1}}\\verb|ранг|\\phantom{\\verb!x!}\\verb|=| 2</script></html>"
      ],
      "text/latex": [
       "\\begin{math}\n",
       "\\newcommand{\\Bold}[1]{\\mathbf{#1}}\\verb|ранг|\\phantom{\\verb!x!}\\verb|=| 2\n",
       "\\end{math}"
      ],
      "text/plain": [
       "'ранг = ' 2"
      ]
     },
     "metadata": {},
     "output_type": "display_data"
    }
   ],
   "source": [
    "_B2 = A0 -  x_2*identity_matrix(3)\n",
    "show(_B2)\n",
    "show('ступ. вид = ', _B2.echelon_form())\n",
    "_r2= rank(_B2)\n",
    "show('ранг = ', _r2)"
   ]
  },
  {
   "cell_type": "code",
   "execution_count": 57,
   "metadata": {},
   "outputs": [
    {
     "data": {
      "text/html": [
       "<html><script type=\"math/tex; mode=display\">\\newcommand{\\Bold}[1]{\\mathbf{#1}}\\verb|C2'| \\left(\\begin{array}{r}\n",
       "-\\frac{2}{3} \\\\\n",
       "\\frac{2}{3} \\\\\n",
       "1\n",
       "\\end{array}\\right)</script></html>"
      ],
      "text/latex": [
       "\\begin{math}\n",
       "\\newcommand{\\Bold}[1]{\\mathbf{#1}}\\verb|C2'| \\left(\\begin{array}{r}\n",
       "-\\frac{2}{3} \\\\\n",
       "\\frac{2}{3} \\\\\n",
       "1\n",
       "\\end{array}\\right)\n",
       "\\end{math}"
      ],
      "text/plain": [
       "\"C2'\" [-2/3]\n",
       "[ 2/3]\n",
       "[   1]"
      ]
     },
     "metadata": {},
     "output_type": "display_data"
    }
   ],
   "source": [
    "e1_=matrix(QQ,[-1/3,2/3,1]).transpose()\n",
    "show(\"C1'\", e1_)\n",
    "e2_=matrix(QQ,[-2/3,2/3,1]).transpose()\n",
    "show(\"C2'\",e2_)"
   ]
  },
  {
   "cell_type": "code",
   "execution_count": 31,
   "metadata": {},
   "outputs": [
    {
     "data": {
      "text/html": [
       "<html><script type=\"math/tex; mode=display\">\\newcommand{\\Bold}[1]{\\mathbf{#1}}\\left(\\begin{array}{rrr}\n",
       "2.00000000000000 & 8.00000000000000 & -4.00000000000000 \\\\\n",
       "-4.00000000000000 & 2.00000000000000 & -4.00000000000000 \\\\\n",
       "-6.00000000000000 & 0.000000000000000 & -4.00000000000000\n",
       "\\end{array}\\right)</script></html>"
      ],
      "text/latex": [
       "\\begin{math}\n",
       "\\newcommand{\\Bold}[1]{\\mathbf{#1}}\\left(\\begin{array}{rrr}\n",
       "2.00000000000000 & 8.00000000000000 & -4.00000000000000 \\\\\n",
       "-4.00000000000000 & 2.00000000000000 & -4.00000000000000 \\\\\n",
       "-6.00000000000000 & 0.000000000000000 & -4.00000000000000\n",
       "\\end{array}\\right)\n",
       "\\end{math}"
      ],
      "text/plain": [
       "[ 2.00000000000000  8.00000000000000 -4.00000000000000]\n",
       "[-4.00000000000000  2.00000000000000 -4.00000000000000]\n",
       "[-6.00000000000000 0.000000000000000 -4.00000000000000]"
      ]
     },
     "metadata": {},
     "output_type": "display_data"
    },
    {
     "data": {
      "text/html": [
       "<html><script type=\"math/tex; mode=display\">\\newcommand{\\Bold}[1]{\\mathbf{#1}}\\verb|ступ.|\\phantom{\\verb!x!}\\verb|вид|\\phantom{\\verb!x!}\\verb|=| \\left(\\begin{array}{rrr}\n",
       "1.00000000000000 & 0.000000000000000 & 0.666666666666667 \\\\\n",
       "0.000000000000000 & 1.00000000000000 & -0.666666666666667 \\\\\n",
       "0.000000000000000 & 0.000000000000000 & 0.000000000000000\n",
       "\\end{array}\\right)</script></html>"
      ],
      "text/latex": [
       "\\begin{math}\n",
       "\\newcommand{\\Bold}[1]{\\mathbf{#1}}\\verb|ступ.|\\phantom{\\verb!x!}\\verb|вид|\\phantom{\\verb!x!}\\verb|=| \\left(\\begin{array}{rrr}\n",
       "1.00000000000000 & 0.000000000000000 & 0.666666666666667 \\\\\n",
       "0.000000000000000 & 1.00000000000000 & -0.666666666666667 \\\\\n",
       "0.000000000000000 & 0.000000000000000 & 0.000000000000000\n",
       "\\end{array}\\right)\n",
       "\\end{math}"
      ],
      "text/plain": [
       "'ступ. вид = ' [  1.00000000000000  0.000000000000000  0.666666666666667]\n",
       "[ 0.000000000000000   1.00000000000000 -0.666666666666667]\n",
       "[ 0.000000000000000  0.000000000000000  0.000000000000000]"
      ]
     },
     "metadata": {},
     "output_type": "display_data"
    },
    {
     "data": {
      "text/html": [
       "<html><script type=\"math/tex; mode=display\">\\newcommand{\\Bold}[1]{\\mathbf{#1}}\\verb|ранг|\\phantom{\\verb!x!}\\verb|=| 2</script></html>"
      ],
      "text/latex": [
       "\\begin{math}\n",
       "\\newcommand{\\Bold}[1]{\\mathbf{#1}}\\verb|ранг|\\phantom{\\verb!x!}\\verb|=| 2\n",
       "\\end{math}"
      ],
      "text/plain": [
       "'ранг = ' 2"
      ]
     },
     "metadata": {},
     "output_type": "display_data"
    }
   ],
   "source": [
    "_B3 = A0 -  x_3*identity_matrix(3)\n",
    "show(_B3)\n",
    "show('ступ. вид = ', _B3.echelon_form())\n",
    "_r3= rank(_B3)\n",
    "show('ранг = ', _r3)\n",
    " "
   ]
  },
  {
   "cell_type": "code",
   "execution_count": 32,
   "metadata": {},
   "outputs": [
    {
     "data": {
      "text/html": [
       "<html><script type=\"math/tex; mode=display\">\\newcommand{\\Bold}[1]{\\mathbf{#1}}\\verb|C3'| \\left(\\begin{array}{r}\n",
       "-1 \\\\\n",
       "\\frac{1}{2} \\\\\n",
       "1\n",
       "\\end{array}\\right)</script></html>"
      ],
      "text/latex": [
       "\\begin{math}\n",
       "\\newcommand{\\Bold}[1]{\\mathbf{#1}}\\verb|C3'| \\left(\\begin{array}{r}\n",
       "-1 \\\\\n",
       "\\frac{1}{2} \\\\\n",
       "1\n",
       "\\end{array}\\right)\n",
       "\\end{math}"
      ],
      "text/plain": [
       "\"C3'\" [ -1]\n",
       "[1/2]\n",
       "[  1]"
      ]
     },
     "metadata": {},
     "output_type": "display_data"
    }
   ],
   "source": [
    "e2_=matrix(QQ,[-2/3,2/3,1]).transpose()\n",
    "show(\"C2'\",e2_)\n",
    " "
   ]
  },
  {
   "cell_type": "markdown",
   "metadata": {},
   "source": [
    "<h1>Найти жарданову форму</h1>"
   ]
  },
  {
   "cell_type": "code",
   "execution_count": 60,
   "metadata": {},
   "outputs": [],
   "source": [
    " def find_m(A_1, x, k):\n",
    "        n_minus_k = A_1.nrows() - k\n",
    "        m = 1\n",
    "        A_2=A_1- x*identity_matrix(3)\n",
    "        while True:\n",
    "            delta = rank((A_2)**m)\n",
    "            show(LatexExpr(fr\"rg((A - \\ {x} \\cdot E)^{m}) = {delta}\"))\n",
    "            if delta == n_minus_k:\n",
    "                break\n",
    "            if delta < n_minus_k:\n",
    "                show(html(fr\"<b style='color: red'>$rg((A - \\lambda_1\\cdot E)^{m}) = {delta} < n - k_1$</b>\"))\n",
    "                raise Exception(\"Неожиданность\")\n",
    "                break\n",
    "            m += 1\n",
    "        return m\n",
    "        \n",
    "\n",
    " "
   ]
  },
  {
   "cell_type": "code",
   "execution_count": 61,
   "metadata": {},
   "outputs": [
    {
     "data": {
      "text/html": [
       "<html><script type=\"math/tex; mode=display\">\\newcommand{\\Bold}[1]{\\mathbf{#1}}rg((A - \\ 7.00000000000000 \\cdot E)^1) = 2</script></html>"
      ],
      "text/latex": [
       "\\begin{math}\n",
       "\\newcommand{\\Bold}[1]{\\mathbf{#1}}rg((A - \\ 7.00000000000000 \\cdot E)^1) = 2\n",
       "\\end{math}"
      ],
      "text/plain": [
       "rg((A - \\ 7.00000000000000 \\cdot E)^1) = 2"
      ]
     },
     "metadata": {},
     "output_type": "display_data"
    },
    {
     "data": {
      "text/html": [
       "<html><script type=\"math/tex; mode=display\">\\newcommand{\\Bold}[1]{\\mathbf{#1}}\\verb|m_1=| 1</script></html>"
      ],
      "text/latex": [
       "\\begin{math}\n",
       "\\newcommand{\\Bold}[1]{\\mathbf{#1}}\\verb|m_1=| 1\n",
       "\\end{math}"
      ],
      "text/plain": [
       "'m_1=' 1"
      ]
     },
     "metadata": {},
     "output_type": "display_data"
    },
    {
     "data": {
      "text/html": [
       "<html><script type=\"math/tex; mode=display\">\\newcommand{\\Bold}[1]{\\mathbf{#1}}rg((A - \\ 3.00000000000000 \\cdot E)^1) = 2</script></html>"
      ],
      "text/latex": [
       "\\begin{math}\n",
       "\\newcommand{\\Bold}[1]{\\mathbf{#1}}rg((A - \\ 3.00000000000000 \\cdot E)^1) = 2\n",
       "\\end{math}"
      ],
      "text/plain": [
       "rg((A - \\ 3.00000000000000 \\cdot E)^1) = 2"
      ]
     },
     "metadata": {},
     "output_type": "display_data"
    },
    {
     "data": {
      "text/html": [
       "<html><script type=\"math/tex; mode=display\">\\newcommand{\\Bold}[1]{\\mathbf{#1}}\\verb|m_2=| 1</script></html>"
      ],
      "text/latex": [
       "\\begin{math}\n",
       "\\newcommand{\\Bold}[1]{\\mathbf{#1}}\\verb|m_2=| 1\n",
       "\\end{math}"
      ],
      "text/plain": [
       "'m_2=' 1"
      ]
     },
     "metadata": {},
     "output_type": "display_data"
    },
    {
     "data": {
      "text/html": [
       "<html><script type=\"math/tex; mode=display\">\\newcommand{\\Bold}[1]{\\mathbf{#1}}rg((A - \\ 5.00000000000000 \\cdot E)^1) = 2</script></html>"
      ],
      "text/latex": [
       "\\begin{math}\n",
       "\\newcommand{\\Bold}[1]{\\mathbf{#1}}rg((A - \\ 5.00000000000000 \\cdot E)^1) = 2\n",
       "\\end{math}"
      ],
      "text/plain": [
       "rg((A - \\ 5.00000000000000 \\cdot E)^1) = 2"
      ]
     },
     "metadata": {},
     "output_type": "display_data"
    },
    {
     "data": {
      "text/html": [
       "<html><script type=\"math/tex; mode=display\">\\newcommand{\\Bold}[1]{\\mathbf{#1}}\\verb|m_3=| 1</script></html>"
      ],
      "text/latex": [
       "\\begin{math}\n",
       "\\newcommand{\\Bold}[1]{\\mathbf{#1}}\\verb|m_3=| 1\n",
       "\\end{math}"
      ],
      "text/plain": [
       "'m_3=' 1"
      ]
     },
     "metadata": {},
     "output_type": "display_data"
    }
   ],
   "source": [
    "m_1=find_m(1*A, x_1, k_1)\n",
    "show(\"m_1=\", m_1)\n",
    "m_2=find_m(1*A, x_2, k_2)\n",
    "show(\"m_2=\", m_2)\n",
    " \n",
    "m_3=find_m(1*A, x_3, k_3)\n",
    "show(\"m_3=\", m_3)"
   ]
  },
  {
   "cell_type": "code",
   "execution_count": 62,
   "metadata": {},
   "outputs": [
    {
     "data": {
      "text/html": [
       "<html><script type=\"math/tex; mode=display\">\\newcommand{\\Bold}[1]{\\mathbf{#1}}\\left(\\begin{array}{rrr}\n",
       "7 & 0 & 0 \\\\\n",
       "0 & 3 & 0 \\\\\n",
       "0 & 0 & 5\n",
       "\\end{array}\\right)</script></html>"
      ],
      "text/latex": [
       "\\begin{math}\n",
       "\\newcommand{\\Bold}[1]{\\mathbf{#1}}\\left(\\begin{array}{rrr}\n",
       "7 & 0 & 0 \\\\\n",
       "0 & 3 & 0 \\\\\n",
       "0 & 0 & 5\n",
       "\\end{array}\\right)\n",
       "\\end{math}"
      ],
      "text/plain": [
       "[7 0 0]\n",
       "[0 3 0]\n",
       "[0 0 5]"
      ]
     },
     "metadata": {},
     "output_type": "display_data"
    }
   ],
   "source": [
    "J=matrix(QQ,[[x_1,0,0],[0,x_2,0],[0,0,x_3]])\n",
    "show(J)"
   ]
  },
  {
   "cell_type": "code",
   "execution_count": 63,
   "metadata": {},
   "outputs": [
    {
     "data": {
      "text/html": [
       "<html><script type=\"math/tex; mode=display\">\\newcommand{\\Bold}[1]{\\mathbf{#1}}\\left(\\begin{array}{r|r|r}\n",
       "7 & 0 & 0 \\\\\n",
       "\\hline\n",
       " 0 & 5 & 0 \\\\\n",
       "\\hline\n",
       " 0 & 0 & 3\n",
       "\\end{array}\\right)</script></html>"
      ],
      "text/latex": [
       "\\begin{math}\n",
       "\\newcommand{\\Bold}[1]{\\mathbf{#1}}\\left(\\begin{array}{r|r|r}\n",
       "7 & 0 & 0 \\\\\n",
       "\\hline\n",
       " 0 & 5 & 0 \\\\\n",
       "\\hline\n",
       " 0 & 0 & 3\n",
       "\\end{array}\\right)\n",
       "\\end{math}"
      ],
      "text/plain": [
       "[7|0|0]\n",
       "[-+-+-]\n",
       "[0|5|0]\n",
       "[-+-+-]\n",
       "[0|0|3]"
      ]
     },
     "metadata": {},
     "output_type": "display_data"
    }
   ],
   "source": [
    "show(A.jordan_form())"
   ]
  },
  {
   "cell_type": "markdown",
   "metadata": {},
   "source": [
    "<h1>Найти матрицу перехода из канон в базис жарданов</h1>"
   ]
  },
  {
   "cell_type": "code",
   "execution_count": 64,
   "metadata": {},
   "outputs": [
    {
     "data": {
      "text/html": [
       "<html><script type=\"math/tex; mode=display\">\\newcommand{\\Bold}[1]{\\mathbf{#1}}\\left(\\begin{array}{r}\n",
       "1 \\\\\n",
       "0 \\\\\n",
       "-1\n",
       "\\end{array}\\right)  \\left(\\begin{array}{r}\n",
       "0 \\\\\n",
       "1 \\\\\n",
       "1\n",
       "\\end{array}\\right)  \\left(\\begin{array}{r}\n",
       "1 \\\\\n",
       "1 \\\\\n",
       "1\n",
       "\\end{array}\\right)</script></html>"
      ],
      "text/latex": [
       "\\begin{math}\n",
       "\\newcommand{\\Bold}[1]{\\mathbf{#1}}\\left(\\begin{array}{r}\n",
       "1 \\\\\n",
       "0 \\\\\n",
       "-1\n",
       "\\end{array}\\right)  \\left(\\begin{array}{r}\n",
       "0 \\\\\n",
       "1 \\\\\n",
       "1\n",
       "\\end{array}\\right)  \\left(\\begin{array}{r}\n",
       "1 \\\\\n",
       "1 \\\\\n",
       "1\n",
       "\\end{array}\\right)\n",
       "\\end{math}"
      ],
      "text/plain": [
       "[ 1]\n",
       "[ 0]\n",
       "[-1] ' ' [0]\n",
       "[1]\n",
       "[1] ' ' [1]\n",
       "[1]\n",
       "[1]"
      ]
     },
     "metadata": {},
     "output_type": "display_data"
    }
   ],
   "source": [
    "show(e1,\" \",e2, \" \",e3)"
   ]
  },
  {
   "cell_type": "code",
   "execution_count": 65,
   "metadata": {},
   "outputs": [
    {
     "data": {
      "text/html": [
       "<html><script type=\"math/tex; mode=display\">\\newcommand{\\Bold}[1]{\\mathbf{#1}}\\left(\\begin{array}{rrr}\n",
       "1 & 0 & 1 \\\\\n",
       "0 & 1 & 1 \\\\\n",
       "-1 & 1 & 1\n",
       "\\end{array}\\right)</script></html>"
      ],
      "text/latex": [
       "\\begin{math}\n",
       "\\newcommand{\\Bold}[1]{\\mathbf{#1}}\\left(\\begin{array}{rrr}\n",
       "1 & 0 & 1 \\\\\n",
       "0 & 1 & 1 \\\\\n",
       "-1 & 1 & 1\n",
       "\\end{array}\\right)\n",
       "\\end{math}"
      ],
      "text/plain": [
       "[ 1  0  1]\n",
       "[ 0  1  1]\n",
       "[-1  1  1]"
      ]
     },
     "metadata": {},
     "output_type": "display_data"
    }
   ],
   "source": [
    "S= matrix(QQ,[[1,0,-1],[0,1,1],[1,1,1]]).transpose()\n",
    "show(S)"
   ]
  },
  {
   "cell_type": "markdown",
   "metadata": {},
   "source": [
    "<h1>Собственные числа собственный вектор в каноничном базисе</h1>"
   ]
  },
  {
   "cell_type": "code",
   "execution_count": 66,
   "metadata": {},
   "outputs": [
    {
     "data": {
      "text/html": [
       "<html><script type=\"math/tex; mode=display\">\\newcommand{\\Bold}[1]{\\mathbf{#1}}a^{3} - 15 \\, a^{2} + 71 \\, a - 105</script></html>"
      ],
      "text/latex": [
       "\\begin{math}\n",
       "\\newcommand{\\Bold}[1]{\\mathbf{#1}}a^{3} - 15 \\, a^{2} + 71 \\, a - 105\n",
       "\\end{math}"
      ],
      "text/plain": [
       "a^3 - 15*a^2 + 71*a - 105"
      ]
     },
     "metadata": {},
     "output_type": "display_data"
    },
    {
     "data": {
      "text/html": [
       "<html><script type=\"math/tex; mode=display\">\\newcommand{\\Bold}[1]{\\mathbf{#1}}\\left(\\begin{array}{rrr}\n",
       "0 & 0 & 0 \\\\\n",
       "0 & 0 & 0 \\\\\n",
       "0 & 0 & 0\n",
       "\\end{array}\\right)</script></html>"
      ],
      "text/latex": [
       "\\begin{math}\n",
       "\\newcommand{\\Bold}[1]{\\mathbf{#1}}\\left(\\begin{array}{rrr}\n",
       "0 & 0 & 0 \\\\\n",
       "0 & 0 & 0 \\\\\n",
       "0 & 0 & 0\n",
       "\\end{array}\\right)\n",
       "\\end{math}"
      ],
      "text/plain": [
       "[0 0 0]\n",
       "[0 0 0]\n",
       "[0 0 0]"
      ]
     },
     "metadata": {},
     "output_type": "display_data"
    },
    {
     "data": {
      "text/html": [
       "<html><script type=\"math/tex; mode=display\">\\newcommand{\\Bold}[1]{\\mathbf{#1}}\\left(\\begin{array}{rrr}\n",
       "343 & -316 & 316 \\\\\n",
       "218 & -93 & 218 \\\\\n",
       "218 & -120 & 245\n",
       "\\end{array}\\right)</script></html>"
      ],
      "text/latex": [
       "\\begin{math}\n",
       "\\newcommand{\\Bold}[1]{\\mathbf{#1}}\\left(\\begin{array}{rrr}\n",
       "343 & -316 & 316 \\\\\n",
       "218 & -93 & 218 \\\\\n",
       "218 & -120 & 245\n",
       "\\end{array}\\right)\n",
       "\\end{math}"
      ],
      "text/plain": [
       "[ 343 -316  316]\n",
       "[ 218  -93  218]\n",
       "[ 218 -120  245]"
      ]
     },
     "metadata": {},
     "output_type": "display_data"
    }
   ],
   "source": [
    "var(\"x\")\n",
    "k(a)=a**3-15*a**2+71*a-105\n",
    "show(k(a))\n",
    "Ax=A**3-15*A**2+71*A-105*identity_matrix(3)\n",
    "show(Ax)\n",
    "Ax_3=15*A**2-71*A+105*identity_matrix(3)\n",
    "show(Ax_3)"
   ]
  },
  {
   "cell_type": "code",
   "execution_count": 67,
   "metadata": {},
   "outputs": [
    {
     "data": {
      "text/html": [
       "<html><script type=\"math/tex; mode=display\">\\newcommand{\\Bold}[1]{\\mathbf{#1}}\\left(\\begin{array}{rrr}\n",
       "\\frac{1}{7} & \\frac{4}{21} & -\\frac{4}{21} \\\\\n",
       "-\\frac{2}{35} & \\frac{9}{35} & -\\frac{2}{35} \\\\\n",
       "-\\frac{2}{35} & -\\frac{8}{105} & \\frac{29}{105}\n",
       "\\end{array}\\right)</script></html>"
      ],
      "text/latex": [
       "\\begin{math}\n",
       "\\newcommand{\\Bold}[1]{\\mathbf{#1}}\\left(\\begin{array}{rrr}\n",
       "\\frac{1}{7} & \\frac{4}{21} & -\\frac{4}{21} \\\\\n",
       "-\\frac{2}{35} & \\frac{9}{35} & -\\frac{2}{35} \\\\\n",
       "-\\frac{2}{35} & -\\frac{8}{105} & \\frac{29}{105}\n",
       "\\end{array}\\right)\n",
       "\\end{math}"
      ],
      "text/plain": [
       "[   1/7   4/21  -4/21]\n",
       "[ -2/35   9/35  -2/35]\n",
       "[ -2/35 -8/105 29/105]"
      ]
     },
     "metadata": {},
     "output_type": "display_data"
    }
   ],
   "source": [
    "Ax_1=(A**2-15*A**1+71*identity_matrix(3))*1/105\n",
    "show(Ax_1)"
   ]
  }
 ],
 "metadata": {
  "kernelspec": {
   "display_name": "SageMath 9.2",
   "language": "sage",
   "name": "sagemath"
  },
  "language_info": {
   "codemirror_mode": {
    "name": "ipython",
    "version": 3
   },
   "file_extension": ".py",
   "mimetype": "text/x-python",
   "name": "python",
   "nbconvert_exporter": "python",
   "pygments_lexer": "ipython3",
   "version": "3.7.7"
  }
 },
 "nbformat": 4,
 "nbformat_minor": 4
}
