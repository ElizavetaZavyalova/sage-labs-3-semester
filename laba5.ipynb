{
 "cells": [
  {
   "cell_type": "markdown",
   "metadata": {},
   "source": []
  },
  {
   "cell_type": "code",
   "execution_count": 46,
   "metadata": {},
   "outputs": [
    {
     "data": {
      "text/html": [
       "<html><script type=\"math/tex; mode=display\">\\newcommand{\\Bold}[1]{\\mathbf{#1}}x^{4} + \\frac{7}{12} \\, x^{3} - \\frac{1}{6} \\, x^{2} - \\frac{1}{12} \\, x</script></html>"
      ],
      "text/latex": [
       "\\begin{math}\n",
       "\\newcommand{\\Bold}[1]{\\mathbf{#1}}x^{4} + \\frac{7}{12} \\, x^{3} - \\frac{1}{6} \\, x^{2} - \\frac{1}{12} \\, x\n",
       "\\end{math}"
      ],
      "text/plain": [
       "x^4 + 7/12*x^3 - 1/6*x^2 - 1/12*x"
      ]
     },
     "metadata": {},
     "output_type": "display_data"
    }
   ],
   "source": [
    "var(\"x\")\n",
    "poly_x = 12*x**4+7*x**3-2*x**2-x\n",
    "poly_x=poly_x*(1/12)\n",
    "show(poly_x)"
   ]
  },
  {
   "cell_type": "code",
   "execution_count": 47,
   "metadata": {},
   "outputs": [
    {
     "data": {
      "text/html": [
       "<html><script type=\"math/tex; mode=display\">\\newcommand{\\Bold}[1]{\\mathbf{#1}}y^{4} - \\frac{113}{384} \\, y^{2} - \\frac{137}{13824} \\, y + \\frac{4277}{589824}</script></html>"
      ],
      "text/latex": [
       "\\begin{math}\n",
       "\\newcommand{\\Bold}[1]{\\mathbf{#1}}y^{4} - \\frac{113}{384} \\, y^{2} - \\frac{137}{13824} \\, y + \\frac{4277}{589824}\n",
       "\\end{math}"
      ],
      "text/plain": [
       "y^4 - 113/384*y^2 - 137/13824*y + 4277/589824"
      ]
     },
     "metadata": {},
     "output_type": "display_data"
    }
   ],
   "source": [
    "\n",
    "var(\"y\")\n",
    "t=-(7/(12*4))\n",
    "poly_y = poly_x(x = y +t).expand().simplify_full()\n",
    "show(poly_y)"
   ]
  },
  {
   "cell_type": "code",
   "execution_count": 48,
   "metadata": {},
   "outputs": [
    {
     "data": {
      "text/html": [
       "<html><script type=\"math/tex; mode=display\">\\newcommand{\\Bold}[1]{\\mathbf{#1}}\\left\\{\\verb|p| : -\\frac{113}{384}, \\verb|q| : -\\frac{137}{13824}, \\verb|r| : \\frac{4277}{589824}\\right\\}</script></html>"
      ],
      "text/latex": [
       "\\begin{math}\n",
       "\\newcommand{\\Bold}[1]{\\mathbf{#1}}\\left\\{\\verb|p| : -\\frac{113}{384}, \\verb|q| : -\\frac{137}{13824}, \\verb|r| : \\frac{4277}{589824}\\right\\}\n",
       "\\end{math}"
      ],
      "text/plain": [
       "{'p': -113/384, 'q': -137/13824, 'r': 4277/589824}"
      ]
     },
     "metadata": {},
     "output_type": "display_data"
    }
   ],
   "source": [
    "pqr = {'p':-(113/384), 'q': -(137/13824), 'r': (4277/589824)}\n",
    "show(pqr)"
   ]
  },
  {
   "cell_type": "code",
   "execution_count": 49,
   "metadata": {},
   "outputs": [
    {
     "data": {
      "text/html": [
       "<html><script type=\"math/tex; mode=display\">\\newcommand{\\Bold}[1]{\\mathbf{#1}}-p s^{2} + 2 \\, s^{3} - \\frac{1}{4} \\, q^{2} + p r - 2 \\, r s</script></html>"
      ],
      "text/latex": [
       "\\begin{math}\n",
       "\\newcommand{\\Bold}[1]{\\mathbf{#1}}-p s^{2} + 2 \\, s^{3} - \\frac{1}{4} \\, q^{2} + p r - 2 \\, r s\n",
       "\\end{math}"
      ],
      "text/plain": [
       "-p*s^2 + 2*s^3 - 1/4*q^2 + p*r - 2*r*s"
      ]
     },
     "metadata": {},
     "output_type": "display_data"
    }
   ],
   "source": [
    "\n",
    "var(\"s p q r\")\n",
    "poly_s = 2*s**3 - p*s**2 - 2*r*s + r*p - q**2/4\n",
    "show(poly_s)"
   ]
  },
  {
   "cell_type": "code",
   "execution_count": 50,
   "metadata": {},
   "outputs": [
    {
     "data": {
      "text/html": [
       "<html><script type=\"math/tex; mode=display\">\\newcommand{\\Bold}[1]{\\mathbf{#1}}2 \\, s^{3} + \\frac{113}{384} \\, s^{2} - \\frac{4277}{294912} \\, s - \\frac{13199279}{6115295232}</script></html>"
      ],
      "text/latex": [
       "\\begin{math}\n",
       "\\newcommand{\\Bold}[1]{\\mathbf{#1}}2 \\, s^{3} + \\frac{113}{384} \\, s^{2} - \\frac{4277}{294912} \\, s - \\frac{13199279}{6115295232}\n",
       "\\end{math}"
      ],
      "text/plain": [
       "2*s^3 + 113/384*s^2 - 4277/294912*s - 13199279/6115295232"
      ]
     },
     "metadata": {},
     "output_type": "display_data"
    }
   ],
   "source": [
    "poly_s_n = poly_s(**pqr)\n",
    "show(poly_s_n)"
   ]
  },
  {
   "cell_type": "code",
   "execution_count": 51,
   "metadata": {},
   "outputs": [],
   "source": [
    "sols = solve(poly_s_n, s)"
   ]
  },
  {
   "cell_type": "code",
   "execution_count": 52,
   "metadata": {},
   "outputs": [
    {
     "data": {
      "text/html": [
       "<html><script type=\"math/tex; mode=display\">\\newcommand{\\Bold}[1]{\\mathbf{#1}}s = -\\frac{1}{48} \\, \\sqrt{17} - \\frac{1}{2304}</script></html>"
      ],
      "text/latex": [
       "\\begin{math}\n",
       "\\newcommand{\\Bold}[1]{\\mathbf{#1}}s = -\\frac{1}{48} \\, \\sqrt{17} - \\frac{1}{2304}\n",
       "\\end{math}"
      ],
      "text/plain": [
       "s == -1/48*sqrt(17) - 1/2304"
      ]
     },
     "metadata": {},
     "output_type": "display_data"
    },
    {
     "data": {
      "text/html": [
       "<html><script type=\"math/tex; mode=display\">\\newcommand{\\Bold}[1]{\\mathbf{#1}}s = \\frac{1}{48} \\, \\sqrt{17} - \\frac{1}{2304}</script></html>"
      ],
      "text/latex": [
       "\\begin{math}\n",
       "\\newcommand{\\Bold}[1]{\\mathbf{#1}}s = \\frac{1}{48} \\, \\sqrt{17} - \\frac{1}{2304}\n",
       "\\end{math}"
      ],
      "text/plain": [
       "s == 1/48*sqrt(17) - 1/2304"
      ]
     },
     "metadata": {},
     "output_type": "display_data"
    },
    {
     "data": {
      "text/html": [
       "<html><script type=\"math/tex; mode=display\">\\newcommand{\\Bold}[1]{\\mathbf{#1}}s = \\left(-\\frac{337}{2304}\\right)</script></html>"
      ],
      "text/latex": [
       "\\begin{math}\n",
       "\\newcommand{\\Bold}[1]{\\mathbf{#1}}s = \\left(-\\frac{337}{2304}\\right)\n",
       "\\end{math}"
      ],
      "text/plain": [
       "s == (-337/2304)"
      ]
     },
     "metadata": {},
     "output_type": "display_data"
    }
   ],
   "source": [
    "for sol in sols:\n",
    "    show(sol)"
   ]
  },
  {
   "cell_type": "code",
   "execution_count": 53,
   "metadata": {},
   "outputs": [
    {
     "data": {
      "text/html": [
       "<html><script type=\"math/tex; mode=display\">\\newcommand{\\Bold}[1]{\\mathbf{#1}}-\\frac{337}{2304}</script></html>"
      ],
      "text/latex": [
       "\\begin{math}\n",
       "\\newcommand{\\Bold}[1]{\\mathbf{#1}}-\\frac{337}{2304}\n",
       "\\end{math}"
      ],
      "text/plain": [
       "-337/2304"
      ]
     },
     "metadata": {},
     "output_type": "display_data"
    }
   ],
   "source": [
    "\n",
    "s_0 = sols[2].rhs()\n",
    "show(s_0)"
   ]
  },
  {
   "cell_type": "code",
   "execution_count": 54,
   "metadata": {},
   "outputs": [],
   "source": [
    "var(\"y s p q\")\n",
    "poly_y_1 = y**2 - y*sqrt(2*s - p) + q/(2*sqrt(2*s - p)) + s\n",
    "poly_y_2 = y**2 + y*sqrt(2*s - p) - q/(2*sqrt(2*s - p)) + s"
   ]
  },
  {
   "cell_type": "code",
   "execution_count": 55,
   "metadata": {},
   "outputs": [
    {
     "data": {
      "text/html": [
       "<html><script type=\"math/tex; mode=display\">\\newcommand{\\Bold}[1]{\\mathbf{#1}}y^{2} - \\sqrt{-p + 2 \\, s} y + s + \\frac{q}{2 \\, \\sqrt{-p + 2 \\, s}}</script></html>"
      ],
      "text/latex": [
       "\\begin{math}\n",
       "\\newcommand{\\Bold}[1]{\\mathbf{#1}}y^{2} - \\sqrt{-p + 2 \\, s} y + s + \\frac{q}{2 \\, \\sqrt{-p + 2 \\, s}}\n",
       "\\end{math}"
      ],
      "text/plain": [
       "y^2 - sqrt(-p + 2*s)*y + s + 1/2*q/sqrt(-p + 2*s)"
      ]
     },
     "metadata": {},
     "output_type": "display_data"
    },
    {
     "data": {
      "text/html": [
       "<html><script type=\"math/tex; mode=display\">\\newcommand{\\Bold}[1]{\\mathbf{#1}}y^{2} + \\sqrt{-p + 2 \\, s} y + s - \\frac{q}{2 \\, \\sqrt{-p + 2 \\, s}}</script></html>"
      ],
      "text/latex": [
       "\\begin{math}\n",
       "\\newcommand{\\Bold}[1]{\\mathbf{#1}}y^{2} + \\sqrt{-p + 2 \\, s} y + s - \\frac{q}{2 \\, \\sqrt{-p + 2 \\, s}}\n",
       "\\end{math}"
      ],
      "text/plain": [
       "y^2 + sqrt(-p + 2*s)*y + s - 1/2*q/sqrt(-p + 2*s)"
      ]
     },
     "metadata": {},
     "output_type": "display_data"
    }
   ],
   "source": [
    "show(poly_y_1)\n",
    "show(poly_y_2)"
   ]
  },
  {
   "cell_type": "code",
   "execution_count": 56,
   "metadata": {},
   "outputs": [
    {
     "data": {
      "text/html": [
       "<html><script type=\"math/tex; mode=display\">\\newcommand{\\Bold}[1]{\\mathbf{#1}}y^{2} - \\frac{1}{24} \\, y - \\frac{611}{2304}</script></html>"
      ],
      "text/latex": [
       "\\begin{math}\n",
       "\\newcommand{\\Bold}[1]{\\mathbf{#1}}y^{2} - \\frac{1}{24} \\, y - \\frac{611}{2304}\n",
       "\\end{math}"
      ],
      "text/plain": [
       "y^2 - 1/24*y - 611/2304"
      ]
     },
     "metadata": {},
     "output_type": "display_data"
    },
    {
     "data": {
      "text/html": [
       "<html><script type=\"math/tex; mode=display\">\\newcommand{\\Bold}[1]{\\mathbf{#1}}y^{2} + \\frac{1}{24} \\, y - \\frac{7}{256}</script></html>"
      ],
      "text/latex": [
       "\\begin{math}\n",
       "\\newcommand{\\Bold}[1]{\\mathbf{#1}}y^{2} + \\frac{1}{24} \\, y - \\frac{7}{256}\n",
       "\\end{math}"
      ],
      "text/plain": [
       "y^2 + 1/24*y - 7/256"
      ]
     },
     "metadata": {},
     "output_type": "display_data"
    }
   ],
   "source": [
    "poly_y_1_n = poly_y_1(**pqr, s=s_0)\n",
    "poly_y_2_n = poly_y_2(**pqr, s=s_0)\n",
    "show(poly_y_1_n)\n",
    "show(poly_y_2_n)"
   ]
  },
  {
   "cell_type": "code",
   "execution_count": 57,
   "metadata": {},
   "outputs": [],
   "source": [
    "b=[-1/24,1/24]\n",
    "c=[-(611/2304),-7/256]\n",
    "X=[0,0,0,0]"
   ]
  },
  {
   "cell_type": "code",
   "execution_count": 61,
   "metadata": {},
   "outputs": [
    {
     "data": {
      "text/html": [
       "<html><script type=\"math/tex; mode=display\">\\newcommand{\\Bold}[1]{\\mathbf{#1}}0.536221536535541</script></html>"
      ],
      "text/latex": [
       "\\begin{math}\n",
       "\\newcommand{\\Bold}[1]{\\mathbf{#1}}0.536221536535541\n",
       "\\end{math}"
      ],
      "text/plain": [
       "0.536221536535541"
      ]
     },
     "metadata": {},
     "output_type": "display_data"
    },
    {
     "data": {
      "text/html": [
       "<html><script type=\"math/tex; mode=display\">\\newcommand{\\Bold}[1]{\\mathbf{#1}}-0.494554869868874</script></html>"
      ],
      "text/latex": [
       "\\begin{math}\n",
       "\\newcommand{\\Bold}[1]{\\mathbf{#1}}-0.494554869868874\n",
       "\\end{math}"
      ],
      "text/plain": [
       "-0.494554869868874"
      ]
     },
     "metadata": {},
     "output_type": "display_data"
    },
    {
     "data": {
      "text/html": [
       "<html><script type=\"math/tex; mode=display\">\\newcommand{\\Bold}[1]{\\mathbf{#1}}0.145833333333333</script></html>"
      ],
      "text/latex": [
       "\\begin{math}\n",
       "\\newcommand{\\Bold}[1]{\\mathbf{#1}}0.145833333333333\n",
       "\\end{math}"
      ],
      "text/plain": [
       "0.145833333333333"
      ]
     },
     "metadata": {},
     "output_type": "display_data"
    },
    {
     "data": {
      "text/html": [
       "<html><script type=\"math/tex; mode=display\">\\newcommand{\\Bold}[1]{\\mathbf{#1}}-0.187500000000000</script></html>"
      ],
      "text/latex": [
       "\\begin{math}\n",
       "\\newcommand{\\Bold}[1]{\\mathbf{#1}}-0.187500000000000\n",
       "\\end{math}"
      ],
      "text/plain": [
       "-0.187500000000000"
      ]
     },
     "metadata": {},
     "output_type": "display_data"
    }
   ],
   "source": [
    "k=0\n",
    "for i in range(2):\n",
    "    D=b[i]**2-4*c[i]\n",
    "    X[k]=((-b[i]+D**(1/2))/2)\n",
    "    show(n(X[k]))\n",
    "    k+=1\n",
    "    X[k]=((-b[i]-D**(1/2))/2)\n",
    "     \n",
    "    show(n(X[k]))\n",
    "    k+=1\n",
    "     \n",
    "    \n",
    "    "
   ]
  },
  {
   "cell_type": "code",
   "execution_count": 62,
   "metadata": {},
   "outputs": [],
   "source": [
    "sols = solve(poly_y_1_n, y)\n",
    "sols.extend(solve(poly_y_2_n, y))"
   ]
  },
  {
   "cell_type": "code",
   "execution_count": 63,
   "metadata": {},
   "outputs": [
    {
     "data": {
      "text/html": [
       "<html><script type=\"math/tex; mode=display\">\\newcommand{\\Bold}[1]{\\mathbf{#1}}\\verb|x_0|\\phantom{\\verb!x!}\\verb|=| y - \\frac{7}{48} = -\\frac{1}{8} \\, \\sqrt{17} - \\frac{1}{8}</script></html>"
      ],
      "text/latex": [
       "\\begin{math}\n",
       "\\newcommand{\\Bold}[1]{\\mathbf{#1}}\\verb|x_0|\\phantom{\\verb!x!}\\verb|=| y - \\frac{7}{48} = -\\frac{1}{8} \\, \\sqrt{17} - \\frac{1}{8}\n",
       "\\end{math}"
      ],
      "text/plain": [
       "'x_0 = ' y - 7/48 == -1/8*sqrt(17) - 1/8"
      ]
     },
     "metadata": {},
     "output_type": "display_data"
    },
    {
     "data": {
      "text/html": [
       "<html><script type=\"math/tex; mode=display\">\\newcommand{\\Bold}[1]{\\mathbf{#1}}\\verb|x_1|\\phantom{\\verb!x!}\\verb|=| y - \\frac{7}{48} = \\frac{1}{8} \\, \\sqrt{17} - \\frac{1}{8}</script></html>"
      ],
      "text/latex": [
       "\\begin{math}\n",
       "\\newcommand{\\Bold}[1]{\\mathbf{#1}}\\verb|x_1|\\phantom{\\verb!x!}\\verb|=| y - \\frac{7}{48} = \\frac{1}{8} \\, \\sqrt{17} - \\frac{1}{8}\n",
       "\\end{math}"
      ],
      "text/plain": [
       "'x_1 = ' y - 7/48 == 1/8*sqrt(17) - 1/8"
      ]
     },
     "metadata": {},
     "output_type": "display_data"
    },
    {
     "data": {
      "text/html": [
       "<html><script type=\"math/tex; mode=display\">\\newcommand{\\Bold}[1]{\\mathbf{#1}}\\verb|x_2|\\phantom{\\verb!x!}\\verb|=| y - \\frac{7}{48} = \\left(-\\frac{1}{3}\\right)</script></html>"
      ],
      "text/latex": [
       "\\begin{math}\n",
       "\\newcommand{\\Bold}[1]{\\mathbf{#1}}\\verb|x_2|\\phantom{\\verb!x!}\\verb|=| y - \\frac{7}{48} = \\left(-\\frac{1}{3}\\right)\n",
       "\\end{math}"
      ],
      "text/plain": [
       "'x_2 = ' y - 7/48 == (-1/3)"
      ]
     },
     "metadata": {},
     "output_type": "display_data"
    },
    {
     "data": {
      "text/html": [
       "<html><script type=\"math/tex; mode=display\">\\newcommand{\\Bold}[1]{\\mathbf{#1}}\\verb|x_3|\\phantom{\\verb!x!}\\verb|=| y - \\frac{7}{48} = 0</script></html>"
      ],
      "text/latex": [
       "\\begin{math}\n",
       "\\newcommand{\\Bold}[1]{\\mathbf{#1}}\\verb|x_3|\\phantom{\\verb!x!}\\verb|=| y - \\frac{7}{48} = 0\n",
       "\\end{math}"
      ],
      "text/plain": [
       "'x_3 = ' y - 7/48 == 0"
      ]
     },
     "metadata": {},
     "output_type": "display_data"
    }
   ],
   "source": [
    "\n",
    "for i, sol in enumerate(sols):\n",
    "    show(f\"x_{i} = \", sol + t)\n",
    "    X[i]=X[i]+t\n"
   ]
  },
  {
   "cell_type": "code",
   "execution_count": 68,
   "metadata": {},
   "outputs": [
    {
     "name": "stdout",
     "output_type": "stream",
     "text": [
      "алгебраическое представление:\n",
      "x0 =  0.390388203202208\n",
      "x1 =  -0.640388203202208\n",
      "x2 =  0.000000000000000\n",
      "x3 =  -0.333333333333333\n"
     ]
    }
   ],
   "source": [
    " print(\"алгебраическое представление:\")\n",
    "for i in range(4):\n",
    "     print(f\"x{i} = \", n(X[i]))"
   ]
  },
  {
   "cell_type": "code",
   "execution_count": 65,
   "metadata": {},
   "outputs": [
    {
     "name": "stdout",
     "output_type": "stream",
     "text": [
      "тригонаметрическое представление:\n",
      "x0 =  0.390388203202208*cos(0.000000000000000) + 0.390388203202208*I*sin(0.000000000000000)\n",
      "x1 =  0.640388203202208*cos(3.14159265358979) + 0.640388203202208*I*sin(3.14159265358979)\n",
      "x2 =  0.000000000000000\n",
      "x3 =  0.333333333333333*cos(3.14159265358979) + 0.333333333333333*I*sin(3.14159265358979)\n"
     ]
    }
   ],
   "source": [
    "print(\"тригонаметрическое представление:\")\n",
    "\n",
    "for i in range(4):\n",
    "    phi = atan2(X[i].imag(), X[i].real()).n()\n",
    "    x_abs = X[i].abs().n()\n",
    "    x_trig = x_abs*(cos(phi, hold=True) + I*sin(phi, hold=True))\n",
    "    print(f\"x{i} = \", (x_trig))"
   ]
  },
  {
   "cell_type": "code",
   "execution_count": 66,
   "metadata": {},
   "outputs": [
    {
     "name": "stdout",
     "output_type": "stream",
     "text": [
      "экспоненцонное представление:\n"
     ]
    },
    {
     "data": {
      "text/html": [
       "x<script type=\"math/tex\">0</script> = <script type=\"math/tex\">0.390388203202208\\cdot e^{0.000000000000000\\cdot i}</script>"
      ],
      "text/plain": [
       "x<script type=\"math/tex\">0</script> = <script type=\"math/tex\">0.390388203202208\\cdot e^{0.000000000000000\\cdot i}</script>"
      ]
     },
     "metadata": {},
     "output_type": "display_data"
    },
    {
     "data": {
      "text/html": [
       "x<script type=\"math/tex\">1</script> = <script type=\"math/tex\">0.640388203202208\\cdot e^{3.14159265358979\\cdot i}</script>"
      ],
      "text/plain": [
       "x<script type=\"math/tex\">1</script> = <script type=\"math/tex\">0.640388203202208\\cdot e^{3.14159265358979\\cdot i}</script>"
      ]
     },
     "metadata": {},
     "output_type": "display_data"
    },
    {
     "data": {
      "text/html": [
       "x<script type=\"math/tex\">2</script> = <script type=\"math/tex\">0.000000000000000\\cdot e^{1.57079632679490\\cdot i}</script>"
      ],
      "text/plain": [
       "x<script type=\"math/tex\">2</script> = <script type=\"math/tex\">0.000000000000000\\cdot e^{1.57079632679490\\cdot i}</script>"
      ]
     },
     "metadata": {},
     "output_type": "display_data"
    },
    {
     "data": {
      "text/html": [
       "x<script type=\"math/tex\">3</script> = <script type=\"math/tex\">0.333333333333333\\cdot e^{3.14159265358979\\cdot i}</script>"
      ],
      "text/plain": [
       "x<script type=\"math/tex\">3</script> = <script type=\"math/tex\">0.333333333333333\\cdot e^{3.14159265358979\\cdot i}</script>"
      ]
     },
     "metadata": {},
     "output_type": "display_data"
    }
   ],
   "source": [
    "print(\"экспоненцонное представление:\")\n",
    "for i in range(4):\n",
    "    phi = atan2(X[i].imag(), X[i].real()).n()\n",
    "    x_abs = X[i].abs().n()\n",
    "    if(phi==NaN):\n",
    "        phi=(pi/2).n()\n",
    "    x_exp = f\"{x_abs}\" + r\"\\cdot e^{\" + f\"{phi}\" + r\"\\cdot i}\"\n",
    "    show(html(f\"x${i}$ = ${x_exp}$\"))"
   ]
  },
  {
   "cell_type": "code",
   "execution_count": 67,
   "metadata": {},
   "outputs": [
    {
     "data": {
      "text/html": [
       "<html><script type=\"math/tex; mode=display\">\\newcommand{\\Bold}[1]{\\mathbf{#1}}\\verb|x_0|\\phantom{\\verb!x!}\\verb|=| x = -\\frac{1}{8} \\, \\sqrt{17} - \\frac{1}{8}</script></html>"
      ],
      "text/latex": [
       "\\begin{math}\n",
       "\\newcommand{\\Bold}[1]{\\mathbf{#1}}\\verb|x_0|\\phantom{\\verb!x!}\\verb|=| x = -\\frac{1}{8} \\, \\sqrt{17} - \\frac{1}{8}\n",
       "\\end{math}"
      ],
      "text/plain": [
       "'x_0 = ' x == -1/8*sqrt(17) - 1/8"
      ]
     },
     "metadata": {},
     "output_type": "display_data"
    },
    {
     "data": {
      "text/html": [
       "<html><script type=\"math/tex; mode=display\">\\newcommand{\\Bold}[1]{\\mathbf{#1}}\\verb|x_1|\\phantom{\\verb!x!}\\verb|=| x = \\frac{1}{8} \\, \\sqrt{17} - \\frac{1}{8}</script></html>"
      ],
      "text/latex": [
       "\\begin{math}\n",
       "\\newcommand{\\Bold}[1]{\\mathbf{#1}}\\verb|x_1|\\phantom{\\verb!x!}\\verb|=| x = \\frac{1}{8} \\, \\sqrt{17} - \\frac{1}{8}\n",
       "\\end{math}"
      ],
      "text/plain": [
       "'x_1 = ' x == 1/8*sqrt(17) - 1/8"
      ]
     },
     "metadata": {},
     "output_type": "display_data"
    },
    {
     "data": {
      "text/html": [
       "<html><script type=\"math/tex; mode=display\">\\newcommand{\\Bold}[1]{\\mathbf{#1}}\\verb|x_2|\\phantom{\\verb!x!}\\verb|=| x = \\left(-\\frac{1}{3}\\right)</script></html>"
      ],
      "text/latex": [
       "\\begin{math}\n",
       "\\newcommand{\\Bold}[1]{\\mathbf{#1}}\\verb|x_2|\\phantom{\\verb!x!}\\verb|=| x = \\left(-\\frac{1}{3}\\right)\n",
       "\\end{math}"
      ],
      "text/plain": [
       "'x_2 = ' x == (-1/3)"
      ]
     },
     "metadata": {},
     "output_type": "display_data"
    },
    {
     "data": {
      "text/html": [
       "<html><script type=\"math/tex; mode=display\">\\newcommand{\\Bold}[1]{\\mathbf{#1}}\\verb|x_3|\\phantom{\\verb!x!}\\verb|=| x = 0</script></html>"
      ],
      "text/latex": [
       "\\begin{math}\n",
       "\\newcommand{\\Bold}[1]{\\mathbf{#1}}\\verb|x_3|\\phantom{\\verb!x!}\\verb|=| x = 0\n",
       "\\end{math}"
      ],
      "text/plain": [
       "'x_3 = ' x == 0"
      ]
     },
     "metadata": {},
     "output_type": "display_data"
    }
   ],
   "source": [
    "sols = solve(poly_x, x)\n",
    "for i, sol in enumerate(sols):\n",
    "    show(f\"x_{i} = \", sol)"
   ]
  },
  {
   "cell_type": "code",
   "execution_count": 46,
   "metadata": {},
   "outputs": [
    {
     "data": {
      "image/png": "[encoded data removed]",
      "text/plain": [
       "Graphics object consisting of 5 graphics primitives"
      ]
     },
     "metadata": {},
     "output_type": "display_data"
    }
   ],
   "source": [
    "\n",
    "intervals_of_constancy = plot(poly_x, xmin=-1, xmax=1, ymin=-0.5, ymax=0.5)\n",
    "for i in range(4):\n",
    "    intervals_of_constancy  += point(((X[i]), 0), color=\"red\", size=30, zorder=10)\n",
    "intervals_of_constancy.show()"
   ]
  },
  {
   "cell_type": "code",
   "execution_count": null,
   "metadata": {},
   "outputs": [],
   "source": []
  }
 ],
 "metadata": {
  "kernelspec": {
   "display_name": "SageMath 9.2",
   "language": "sage",
   "name": "sagemath"
  },
  "language_info": {
   "codemirror_mode": {
    "name": "ipython",
    "version": 3
   },
   "file_extension": ".py",
   "mimetype": "text/x-python",
   "name": "python",
   "nbconvert_exporter": "python",
   "pygments_lexer": "ipython3",
   "version": "3.7.7"
  }
 },
 "nbformat": 4,
 "nbformat_minor": 2
}
