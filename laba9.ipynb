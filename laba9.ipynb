{
 "cells": [
  {
   "cell_type": "code",
   "execution_count": 17,
   "metadata": {},
   "outputs": [
    {
     "name": "stderr",
     "output_type": "stream",
     "text": [
      "/opt/sagemath-9.2/local/lib/python3.7/site-packages/sage/repl/rich_output/display_manager.py:593: RichReprWarning: Exception in _rich_repr_ while displaying object: [Errno 28] No space left on device\n",
      "  RichReprWarning,\n"
     ]
    },
    {
     "data": {
      "text/plain": [
       "Graphics object consisting of 2 graphics primitives"
      ]
     },
     "execution_count": 17,
     "metadata": {},
     "output_type": "execute_result"
    }
   ],
   "source": [
    "fill_color = \"blue\"\n",
    "plot.options[\"xmin\"] = 0\n",
    "plot.options[\"xmax\"] = 5/9*pi**2*(1/e)\n",
    "plot.options[\"ymin\"] = 0\n",
    "plot.options[\"ymax\"] = 4.5\n",
    "\n",
    "\n",
    "f = log((3*sin(x)**2+2*cos(x))**2)\n",
    "plot(f, title=\"${}$\".format(latex(f)), fillcolor=fill_color, fill=True)"
   ]
  },
  {
   "cell_type": "code",
   "execution_count": 18,
   "metadata": {},
   "outputs": [
    {
     "data": {
      "text/plain": [
       "3.909807963351804"
      ]
     },
     "execution_count": 18,
     "metadata": {},
     "output_type": "execute_result"
    }
   ],
   "source": [
    "# calculate definite integral\n",
    "a = 0\n",
    "b = (5/9*pi**2*(1/e))\n",
    "value, err = numerical_integral(f, a, b)\n",
    "value\n"
   ]
  },
  {
   "cell_type": "code",
   "execution_count": 66,
   "metadata": {},
   "outputs": [],
   "source": [
    "# rectangular integration\n",
    "#засунуть в def\n",
    "def drow_rectangle(_f,step):\n",
    "    dx = (b-a)/step\n",
    "    COLOR_RECT = (1, 0.01, 0.235)\n",
    "    import numpy as np\n",
    "    p1 = plot(_f)\n",
    "    r1 = 0\n",
    "    rects = []\n",
    "    for i, x_0 in enumerate(np.arange(a, b , dx)):\n",
    "        dy = _f(x_0)\n",
    "        curr = dx * dy\n",
    "        r1 += curr\n",
    "        txt = text(r\"$iteration={}, curr={}, result={}$\".format(i, str(curr.n())[:6], str(r1.n())[:10]), (3,5), fontsize=12, color=\"black\")\n",
    "        rects.append(\n",
    "                polygon2d([(x_0, 0),\n",
    "                   (x_0 + dx, 0),\n",
    "                   (x_0 + dx, dy),\n",
    "                   (x_0, dy)], fill=False, rgbcolor=COLOR_RECT)\n",
    "                    )\n",
    "        p1+= plot(rects[-1])\n",
    "        (p1 + txt).show(xmin=0, xmax=2, ymin=0, ymax=5, aspect_ratio=1)\n",
    "    return r1, p1\n",
    " "
   ]
  },
  {
   "cell_type": "code",
   "execution_count": 67,
   "metadata": {},
   "outputs": [],
   "source": [
    "def drow_trapezoid(_f,step):\n",
    "    dx = (b-a)/step\n",
    "    COLOR_RECT = (1, 0.01, 0.235)\n",
    "    import numpy as np\n",
    "    p1 = plot(_f)\n",
    "    r1 = 0\n",
    "    rects = []\n",
    "    for i, x_0 in enumerate(np.arange(a, b , dx)):\n",
    "        dy1 = _f(x_0)\n",
    "        dy2 = _f(x_0+dx)\n",
    "        curr = dx * (dy1+dy2)*0.5\n",
    "        r1 += curr\n",
    "        txt = text(r\"$iteration={}, curr={}, result={}$\".format(i, str(curr.n())[:6], str(r1.n())[:10]), (3,5), fontsize=12, color=\"black\")\n",
    "        rects.append(\n",
    "                polygon2d([(x_0, 0),\n",
    "                   (x_0 + dx, 0),\n",
    "                   (x_0 + dx, dy2),\n",
    "                   (x_0, dy1)], fill=False, rgbcolor=COLOR_RECT)\n",
    "                    )\n",
    "        p1+= plot(rects[-1])\n",
    "        (p1 + txt).show(xmin=0, xmax=2, ymin=0, ymax=5, aspect_ratio=1)\n",
    "    return r1,p1\n",
    " \n"
   ]
  },
  {
   "cell_type": "code",
   "execution_count": 76,
   "metadata": {},
   "outputs": [
    {
     "data": {
      "application/vnd.jupyter.widget-view+json": {
       "model_id": "a0851ff55d2644779e15d0b15a6769fc",
       "version_major": 2,
       "version_minor": 0
      },
      "text/plain": [
       "Interactive function <function _ at 0x6fffd8cf5200> with 1 widget\n",
       "  step: IntSlider(value=25, description='ste…"
      ]
     },
     "metadata": {},
     "output_type": "display_data"
    }
   ],
   "source": [
    "@interact\n",
    "def _(step=(1, 50, 1)):\n",
    "    r2, p2=drow_trapezoid(f,step)\n",
    "    r2.n()\n",
    "    d2 = abs(r2 - value)\n",
    "    print(\"при методе трапеций с шагом\", step, \"разница:\", d2.n())\n",
    "    p2.show()"
   ]
  },
  {
   "cell_type": "code",
   "execution_count": 77,
   "metadata": {},
   "outputs": [
    {
     "data": {
      "application/vnd.jupyter.widget-view+json": {
       "model_id": "9ecef79aef9f4d809fd38c6833a6ef70",
       "version_major": 2,
       "version_minor": 0
      },
      "text/plain": [
       "Interactive function <function _ at 0x6fffd8cf5560> with 1 widget\n",
       "  step: IntSlider(value=25, description='ste…"
      ]
     },
     "metadata": {},
     "output_type": "display_data"
    }
   ],
   "source": [
    "@interact\n",
    "def _(step=(1, 50, 1)):\n",
    "    r2, p2=drow_rectangle(f,step)\n",
    "    r2.n()\n",
    "    d2 = abs(r2 - value)\n",
    "    print(\"при методе прямоугольников с шагом\",step,\" разница:\", d2.n())\n",
    "    p2.show()"
   ]
  },
  {
   "cell_type": "code",
   "execution_count": null,
   "metadata": {},
   "outputs": [],
   "source": []
  }
 ],
 "metadata": {
  "kernelspec": {
   "display_name": "SageMath 9.2",
   "language": "sage",
   "name": "sagemath"
  },
  "language_info": {
   "codemirror_mode": {
    "name": "ipython",
    "version": 3
   },
   "file_extension": ".py",
   "mimetype": "text/x-python",
   "name": "python",
   "nbconvert_exporter": "python",
   "pygments_lexer": "ipython3",
   "version": "3.7.7"
  }
 },
 "nbformat": 4,
 "nbformat_minor": 4
}
