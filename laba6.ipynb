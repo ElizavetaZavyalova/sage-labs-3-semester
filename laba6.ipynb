{
 "cells": [
  {
   "cell_type": "code",
   "execution_count": 1,
   "metadata": {},
   "outputs": [
    {
     "data": {
      "text/html": [
       "<html><script type=\"math/tex; mode=display\">\\newcommand{\\Bold}[1]{\\mathbf{#1}}\\verb|Для|\\phantom{\\verb!x!}\\verb|f|\\phantom{\\verb!x!}\\verb|=| x^{5} - \\frac{21}{5} x^{4} + \\frac{23}{5} x^{3} - \\frac{37}{5} x^{2} + \\frac{77}{5} x - \\frac{7}{5}</script></html>"
      ],
      "text/latex": [
       "\\begin{math}\n",
       "\\newcommand{\\Bold}[1]{\\mathbf{#1}}\\verb|Для|\\phantom{\\verb!x!}\\verb|f|\\phantom{\\verb!x!}\\verb|=| x^{5} - \\frac{21}{5} x^{4} + \\frac{23}{5} x^{3} - \\frac{37}{5} x^{2} + \\frac{77}{5} x - \\frac{7}{5}\n",
       "\\end{math}"
      ],
      "text/plain": [
       "'Для f = ' x^5 - 21/5*x^4 + 23/5*x^3 - 37/5*x^2 + 77/5*x - 7/5"
      ]
     },
     "metadata": {},
     "output_type": "display_data"
    },
    {
     "data": {
      "text/html": [
       "<html><script type=\"math/tex; mode=display\">\\newcommand{\\Bold}[1]{\\mathbf{#1}}\\phantom{\\verb!x!}\\verb|и|\\phantom{\\verb!x!}\\verb|g|\\phantom{\\verb!x!}\\verb|=| x^{4} - \\frac{21}{5} x^{3} + \\frac{28}{5} x^{2} - \\frac{13}{5} x + \\frac{1}{5}</script></html>"
      ],
      "text/latex": [
       "\\begin{math}\n",
       "\\newcommand{\\Bold}[1]{\\mathbf{#1}}\\phantom{\\verb!x!}\\verb|и|\\phantom{\\verb!x!}\\verb|g|\\phantom{\\verb!x!}\\verb|=| x^{4} - \\frac{21}{5} x^{3} + \\frac{28}{5} x^{2} - \\frac{13}{5} x + \\frac{1}{5}\n",
       "\\end{math}"
      ],
      "text/plain": [
       "' и g = ' x^4 - 21/5*x^3 + 28/5*x^2 - 13/5*x + 1/5"
      ]
     },
     "metadata": {},
     "output_type": "display_data"
    },
    {
     "data": {
      "text/html": [
       "<html><script type=\"math/tex; mode=display\">\\newcommand{\\Bold}[1]{\\mathbf{#1}}\\verb|НОД|\\phantom{\\verb!x!}\\verb|=| x^{2} - \\frac{11}{5} x + \\frac{1}{5}</script></html>"
      ],
      "text/latex": [
       "\\begin{math}\n",
       "\\newcommand{\\Bold}[1]{\\mathbf{#1}}\\verb|НОД|\\phantom{\\verb!x!}\\verb|=| x^{2} - \\frac{11}{5} x + \\frac{1}{5}\n",
       "\\end{math}"
      ],
      "text/plain": [
       "'НОД = ' x^2 - 11/5*x + 1/5"
      ]
     },
     "metadata": {},
     "output_type": "display_data"
    }
   ],
   "source": [
    "R.<x> = QQ[\"x\"]\n",
    "f = 5*x**5-21*x**4+23*x**3-37*x**2+77*x-7\n",
    "g = 10*x**4-42*x**3+56*x**2-26*x+2\n",
    "f=f.monic()\n",
    "g=g.monic()\n",
    "res = gcd(f, g)\n",
    "show('Для f = ', f)\n",
    "show(' и g = ', g)\n",
    "show(\"НОД = \", res)"
   ]
  },
  {
   "cell_type": "code",
   "execution_count": 2,
   "metadata": {},
   "outputs": [
    {
     "data": {
      "text/html": [
       "<html><script type=\"math/tex; mode=display\">\\newcommand{\\Bold}[1]{\\mathbf{#1}}(x^{2} - \\frac{11}{5} x + \\frac{1}{5}) \\cdot (x^{3} - 2 x^{2} - 7)</script></html>"
      ],
      "text/latex": [
       "\\begin{math}\n",
       "\\newcommand{\\Bold}[1]{\\mathbf{#1}}(x^{2} - \\frac{11}{5} x + \\frac{1}{5}) \\cdot (x^{3} - 2 x^{2} - 7)\n",
       "\\end{math}"
      ],
      "text/plain": [
       "(x^2 - 11/5*x + 1/5) * (x^3 - 2*x^2 - 7)"
      ]
     },
     "metadata": {},
     "output_type": "display_data"
    },
    {
     "data": {
      "text/html": [
       "<html><script type=\"math/tex; mode=display\">\\newcommand{\\Bold}[1]{\\mathbf{#1}}(x - 1)^{2} \\cdot (x^{2} - \\frac{11}{5} x + \\frac{1}{5})</script></html>"
      ],
      "text/latex": [
       "\\begin{math}\n",
       "\\newcommand{\\Bold}[1]{\\mathbf{#1}}(x - 1)^{2} \\cdot (x^{2} - \\frac{11}{5} x + \\frac{1}{5})\n",
       "\\end{math}"
      ],
      "text/plain": [
       "(x - 1)^2 * (x^2 - 11/5*x + 1/5)"
      ]
     },
     "metadata": {},
     "output_type": "display_data"
    }
   ],
   "source": [
    "show(factor(f))\n",
    "show(factor(g))"
   ]
  },
  {
   "cell_type": "code",
   "execution_count": 3,
   "metadata": {},
   "outputs": [],
   "source": [
    "def evklid(a, b):\n",
    "    if(a==0):\n",
    "        return(b,0,1)\n",
    "    else:\n",
    "        div,x,y=evklid(b.mod(a),a)\n",
    "        cof=div.coefficients()[-1]\n",
    "    return (div/cof, (y-(b//a)*x)/cof,x/cof)\n",
    "a,u,v = evklid(g,f)\n",
    "    "
   ]
  },
  {
   "cell_type": "code",
   "execution_count": 4,
   "metadata": {},
   "outputs": [
    {
     "data": {
      "text/html": [
       "<html><script type=\"math/tex; mode=display\">\\newcommand{\\Bold}[1]{\\mathbf{#1}}\\verb|(| -\\frac{1}{64} x^{2} + \\frac{9}{64} x + \\frac{1}{64} \\verb|)*g+f*(| \\frac{1}{64} x - \\frac{9}{64} \\verb|)=| x^{2} - \\frac{11}{5} x + \\frac{1}{5}</script></html>"
      ],
      "text/latex": [
       "\\begin{math}\n",
       "\\newcommand{\\Bold}[1]{\\mathbf{#1}}\\verb|(| -\\frac{1}{64} x^{2} + \\frac{9}{64} x + \\frac{1}{64} \\verb|)*g+f*(| \\frac{1}{64} x - \\frac{9}{64} \\verb|)=| x^{2} - \\frac{11}{5} x + \\frac{1}{5}\n",
       "\\end{math}"
      ],
      "text/plain": [
       "'(' -1/64*x^2 + 9/64*x + 1/64 ')*g+f*(' 1/64*x - 9/64 ')=' x^2 - 11/5*x + 1/5"
      ]
     },
     "metadata": {},
     "output_type": "display_data"
    }
   ],
   "source": [
    "show(\"(\",u,\")*g+f*(\",v,\")=\",(u*g+f*v))"
   ]
  },
  {
   "cell_type": "code",
   "execution_count": 5,
   "metadata": {},
   "outputs": [
    {
     "name": "stdout",
     "output_type": "stream",
     "text": [
      "равны\n"
     ]
    }
   ],
   "source": [
    "if(a==res):\n",
    "    print(\"равны\")\n",
    "else:\n",
    "    print(\"не равны\")"
   ]
  },
  {
   "cell_type": "code",
   "execution_count": null,
   "metadata": {},
   "outputs": [],
   "source": [
    " "
   ]
  },
  {
   "cell_type": "code",
   "execution_count": null,
   "metadata": {},
   "outputs": [],
   "source": [
    " "
   ]
  },
  {
   "cell_type": "code",
   "execution_count": null,
   "metadata": {},
   "outputs": [],
   "source": []
  }
 ],
 "metadata": {
  "kernelspec": {
   "display_name": "SageMath 9.2",
   "language": "sage",
   "name": "sagemath"
  },
  "language_info": {
   "codemirror_mode": {
    "name": "ipython",
    "version": 3
   },
   "file_extension": ".py",
   "mimetype": "text/x-python",
   "name": "python",
   "nbconvert_exporter": "python",
   "pygments_lexer": "ipython3",
   "version": "3.7.7"
  }
 },
 "nbformat": 4,
 "nbformat_minor": 4
}
